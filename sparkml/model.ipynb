{
 "cells": [
  {
   "cell_type": "markdown",
   "metadata": {
    "colab_type": "text",
    "id": "FYCK8Y-lTb3O"
   },
   "source": [
    "# Módulo # 4 - Big Data\n",
    "\n",
    "## Tarea # 3 \n",
    "## Autor: Jose Martinez"
   ]
  },
  {
   "cell_type": "markdown",
   "metadata": {
    "colab_type": "text",
    "id": "cXPbCqJLTb3Q"
   },
   "source": [
    "# Entrenamiento de modelos\n",
    "\n",
    "Dedicaremos esta lección para el desarrollo de un ejemplo de entrenamiento de un modelo básico, de principio a fin, en Apache Spark. Iniciaremos desde la lectura de los datos, limpieza de los mismos, análisis descriptivo, almacenamiento intermedio y entrenamiento de un modelo de regresión.\n",
    "\n",
    "Para esta actividad utilizaremos un conjunto de datos relacionado con la predicción del precio de viviendas, que se puede descargar desde https://www.kaggle.com/harlfoxem/housesalesprediction"
   ]
  },
  {
   "cell_type": "markdown",
   "metadata": {
    "colab_type": "text",
    "id": "BvlqRf1PTb3R"
   },
   "source": [
    "# Lectura y limpieza\n",
    "Como hemos visto en módulos anteriores, una de las tareas más comunes al procesar datos es el ajuste y limpieza de los datos. Este ejemplo refleja esta situación. En las celdas siguientes leeremos los datos de un archivo CSV y realizaremos diferentes pasos para poder cargar los datos a una tabla en PostgreSQL que almacenará el conjunto de datos en su forma deseada para abordar el análisis."
   ]
  },
  {
   "cell_type": "code",
   "execution_count": 10,
   "metadata": {
    "colab": {},
    "colab_type": "code",
    "id": "pBbCLAzXTb3S",
    "outputId": "0bf8d265-bd7c-40ee-e9cd-c5c01cbf30b7"
   },
   "outputs": [
    {
     "ename": "FileNotFoundError",
     "evalue": "[Errno 2] No such file or directory: '/usr/lib/python3.8/site-packages/pyspark/./bin/spark-submit': '/usr/lib/python3.8/site-packages/pyspark/./bin/spark-submit'",
     "output_type": "error",
     "traceback": [
      "\u001b[0;31m---------------------------------------------------------------------------\u001b[0m",
      "\u001b[0;31mFileNotFoundError\u001b[0m                         Traceback (most recent call last)",
      "\u001b[0;32m<ipython-input-10-c11cf2c7b9dc>\u001b[0m in \u001b[0;36m<module>\u001b[0;34m\u001b[0m\n\u001b[1;32m     13\u001b[0m     \u001b[0;34m.\u001b[0m\u001b[0mappName\u001b[0m\u001b[0;34m(\u001b[0m\u001b[0;34m\"Bigdata: Tarea 3\"\u001b[0m\u001b[0;34m)\u001b[0m\u001b[0;31m \u001b[0m\u001b[0;31m\\\u001b[0m\u001b[0;34m\u001b[0m\u001b[0;34m\u001b[0m\u001b[0m\n\u001b[1;32m     14\u001b[0m     \u001b[0;34m.\u001b[0m\u001b[0mconfig\u001b[0m\u001b[0;34m(\u001b[0m\u001b[0;34m\"spark.driver.extraClassPath\"\u001b[0m\u001b[0;34m,\u001b[0m \u001b[0;34m\"postgresql-42.2.14.jar\"\u001b[0m\u001b[0;34m)\u001b[0m\u001b[0;31m \u001b[0m\u001b[0;31m\\\u001b[0m\u001b[0;34m\u001b[0m\u001b[0;34m\u001b[0m\u001b[0m\n\u001b[0;32m---> 15\u001b[0;31m     \u001b[0;34m.\u001b[0m\u001b[0mconfig\u001b[0m\u001b[0;34m(\u001b[0m\u001b[0;34m\"spark.executor.extraClassPath\"\u001b[0m\u001b[0;34m,\u001b[0m \u001b[0;34m\"postgresql-42.2.14.jar\"\u001b[0m\u001b[0;34m)\u001b[0m\u001b[0;31m \u001b[0m\u001b[0;31m\\\u001b[0m\u001b[0;34m\u001b[0m\u001b[0;34m\u001b[0m\u001b[0m\n\u001b[0m\u001b[1;32m     16\u001b[0m     \u001b[0;34m.\u001b[0m\u001b[0mgetOrCreate\u001b[0m\u001b[0;34m(\u001b[0m\u001b[0;34m)\u001b[0m\u001b[0;34m\u001b[0m\u001b[0;34m\u001b[0m\u001b[0m\n\u001b[1;32m     17\u001b[0m \u001b[0;34m\u001b[0m\u001b[0m\n",
      "\u001b[0;32m~/.local/lib/python3.6/site-packages/pyspark/sql/session.py\u001b[0m in \u001b[0;36mgetOrCreate\u001b[0;34m(self)\u001b[0m\n\u001b[1;32m    226\u001b[0m                             \u001b[0msparkConf\u001b[0m\u001b[0;34m.\u001b[0m\u001b[0mset\u001b[0m\u001b[0;34m(\u001b[0m\u001b[0mkey\u001b[0m\u001b[0;34m,\u001b[0m \u001b[0mvalue\u001b[0m\u001b[0;34m)\u001b[0m\u001b[0;34m\u001b[0m\u001b[0;34m\u001b[0m\u001b[0m\n\u001b[1;32m    227\u001b[0m                         \u001b[0;31m# This SparkContext may be an existing one.\u001b[0m\u001b[0;34m\u001b[0m\u001b[0;34m\u001b[0m\u001b[0;34m\u001b[0m\u001b[0m\n\u001b[0;32m--> 228\u001b[0;31m                         \u001b[0msc\u001b[0m \u001b[0;34m=\u001b[0m \u001b[0mSparkContext\u001b[0m\u001b[0;34m.\u001b[0m\u001b[0mgetOrCreate\u001b[0m\u001b[0;34m(\u001b[0m\u001b[0msparkConf\u001b[0m\u001b[0;34m)\u001b[0m\u001b[0;34m\u001b[0m\u001b[0;34m\u001b[0m\u001b[0m\n\u001b[0m\u001b[1;32m    229\u001b[0m                     \u001b[0;31m# Do not update `SparkConf` for existing `SparkContext`, as it's shared\u001b[0m\u001b[0;34m\u001b[0m\u001b[0;34m\u001b[0m\u001b[0;34m\u001b[0m\u001b[0m\n\u001b[1;32m    230\u001b[0m                     \u001b[0;31m# by all sessions.\u001b[0m\u001b[0;34m\u001b[0m\u001b[0;34m\u001b[0m\u001b[0;34m\u001b[0m\u001b[0m\n",
      "\u001b[0;32m~/.local/lib/python3.6/site-packages/pyspark/context.py\u001b[0m in \u001b[0;36mgetOrCreate\u001b[0;34m(cls, conf)\u001b[0m\n\u001b[1;32m    390\u001b[0m         \u001b[0;32mwith\u001b[0m \u001b[0mSparkContext\u001b[0m\u001b[0;34m.\u001b[0m\u001b[0m_lock\u001b[0m\u001b[0;34m:\u001b[0m\u001b[0;34m\u001b[0m\u001b[0;34m\u001b[0m\u001b[0m\n\u001b[1;32m    391\u001b[0m             \u001b[0;32mif\u001b[0m \u001b[0mSparkContext\u001b[0m\u001b[0;34m.\u001b[0m\u001b[0m_active_spark_context\u001b[0m \u001b[0;32mis\u001b[0m \u001b[0;32mNone\u001b[0m\u001b[0;34m:\u001b[0m\u001b[0;34m\u001b[0m\u001b[0;34m\u001b[0m\u001b[0m\n\u001b[0;32m--> 392\u001b[0;31m                 \u001b[0mSparkContext\u001b[0m\u001b[0;34m(\u001b[0m\u001b[0mconf\u001b[0m\u001b[0;34m=\u001b[0m\u001b[0mconf\u001b[0m \u001b[0;32mor\u001b[0m \u001b[0mSparkConf\u001b[0m\u001b[0;34m(\u001b[0m\u001b[0;34m)\u001b[0m\u001b[0;34m)\u001b[0m\u001b[0;34m\u001b[0m\u001b[0;34m\u001b[0m\u001b[0m\n\u001b[0m\u001b[1;32m    393\u001b[0m             \u001b[0;32mreturn\u001b[0m \u001b[0mSparkContext\u001b[0m\u001b[0;34m.\u001b[0m\u001b[0m_active_spark_context\u001b[0m\u001b[0;34m\u001b[0m\u001b[0;34m\u001b[0m\u001b[0m\n\u001b[1;32m    394\u001b[0m \u001b[0;34m\u001b[0m\u001b[0m\n",
      "\u001b[0;32m~/.local/lib/python3.6/site-packages/pyspark/context.py\u001b[0m in \u001b[0;36m__init__\u001b[0;34m(self, master, appName, sparkHome, pyFiles, environment, batchSize, serializer, conf, gateway, jsc, profiler_cls)\u001b[0m\n\u001b[1;32m    142\u001b[0m                 \" is not allowed as it is a security risk.\")\n\u001b[1;32m    143\u001b[0m \u001b[0;34m\u001b[0m\u001b[0m\n\u001b[0;32m--> 144\u001b[0;31m         \u001b[0mSparkContext\u001b[0m\u001b[0;34m.\u001b[0m\u001b[0m_ensure_initialized\u001b[0m\u001b[0;34m(\u001b[0m\u001b[0mself\u001b[0m\u001b[0;34m,\u001b[0m \u001b[0mgateway\u001b[0m\u001b[0;34m=\u001b[0m\u001b[0mgateway\u001b[0m\u001b[0;34m,\u001b[0m \u001b[0mconf\u001b[0m\u001b[0;34m=\u001b[0m\u001b[0mconf\u001b[0m\u001b[0;34m)\u001b[0m\u001b[0;34m\u001b[0m\u001b[0;34m\u001b[0m\u001b[0m\n\u001b[0m\u001b[1;32m    145\u001b[0m         \u001b[0;32mtry\u001b[0m\u001b[0;34m:\u001b[0m\u001b[0;34m\u001b[0m\u001b[0;34m\u001b[0m\u001b[0m\n\u001b[1;32m    146\u001b[0m             self._do_init(master, appName, sparkHome, pyFiles, environment, batchSize, serializer,\n",
      "\u001b[0;32m~/.local/lib/python3.6/site-packages/pyspark/context.py\u001b[0m in \u001b[0;36m_ensure_initialized\u001b[0;34m(cls, instance, gateway, conf)\u001b[0m\n\u001b[1;32m    337\u001b[0m         \u001b[0;32mwith\u001b[0m \u001b[0mSparkContext\u001b[0m\u001b[0;34m.\u001b[0m\u001b[0m_lock\u001b[0m\u001b[0;34m:\u001b[0m\u001b[0;34m\u001b[0m\u001b[0;34m\u001b[0m\u001b[0m\n\u001b[1;32m    338\u001b[0m             \u001b[0;32mif\u001b[0m \u001b[0;32mnot\u001b[0m \u001b[0mSparkContext\u001b[0m\u001b[0;34m.\u001b[0m\u001b[0m_gateway\u001b[0m\u001b[0;34m:\u001b[0m\u001b[0;34m\u001b[0m\u001b[0;34m\u001b[0m\u001b[0m\n\u001b[0;32m--> 339\u001b[0;31m                 \u001b[0mSparkContext\u001b[0m\u001b[0;34m.\u001b[0m\u001b[0m_gateway\u001b[0m \u001b[0;34m=\u001b[0m \u001b[0mgateway\u001b[0m \u001b[0;32mor\u001b[0m \u001b[0mlaunch_gateway\u001b[0m\u001b[0;34m(\u001b[0m\u001b[0mconf\u001b[0m\u001b[0;34m)\u001b[0m\u001b[0;34m\u001b[0m\u001b[0;34m\u001b[0m\u001b[0m\n\u001b[0m\u001b[1;32m    340\u001b[0m                 \u001b[0mSparkContext\u001b[0m\u001b[0;34m.\u001b[0m\u001b[0m_jvm\u001b[0m \u001b[0;34m=\u001b[0m \u001b[0mSparkContext\u001b[0m\u001b[0;34m.\u001b[0m\u001b[0m_gateway\u001b[0m\u001b[0;34m.\u001b[0m\u001b[0mjvm\u001b[0m\u001b[0;34m\u001b[0m\u001b[0;34m\u001b[0m\u001b[0m\n\u001b[1;32m    341\u001b[0m \u001b[0;34m\u001b[0m\u001b[0m\n",
      "\u001b[0;32m~/.local/lib/python3.6/site-packages/pyspark/java_gateway.py\u001b[0m in \u001b[0;36mlaunch_gateway\u001b[0;34m(conf, popen_kwargs)\u001b[0m\n\u001b[1;32m     96\u001b[0m                     \u001b[0msignal\u001b[0m\u001b[0;34m.\u001b[0m\u001b[0msignal\u001b[0m\u001b[0;34m(\u001b[0m\u001b[0msignal\u001b[0m\u001b[0;34m.\u001b[0m\u001b[0mSIGINT\u001b[0m\u001b[0;34m,\u001b[0m \u001b[0msignal\u001b[0m\u001b[0;34m.\u001b[0m\u001b[0mSIG_IGN\u001b[0m\u001b[0;34m)\u001b[0m\u001b[0;34m\u001b[0m\u001b[0;34m\u001b[0m\u001b[0m\n\u001b[1;32m     97\u001b[0m                 \u001b[0mpopen_kwargs\u001b[0m\u001b[0;34m[\u001b[0m\u001b[0;34m'preexec_fn'\u001b[0m\u001b[0;34m]\u001b[0m \u001b[0;34m=\u001b[0m \u001b[0mpreexec_func\u001b[0m\u001b[0;34m\u001b[0m\u001b[0;34m\u001b[0m\u001b[0m\n\u001b[0;32m---> 98\u001b[0;31m                 \u001b[0mproc\u001b[0m \u001b[0;34m=\u001b[0m \u001b[0mPopen\u001b[0m\u001b[0;34m(\u001b[0m\u001b[0mcommand\u001b[0m\u001b[0;34m,\u001b[0m \u001b[0;34m**\u001b[0m\u001b[0mpopen_kwargs\u001b[0m\u001b[0;34m)\u001b[0m\u001b[0;34m\u001b[0m\u001b[0;34m\u001b[0m\u001b[0m\n\u001b[0m\u001b[1;32m     99\u001b[0m             \u001b[0;32melse\u001b[0m\u001b[0;34m:\u001b[0m\u001b[0;34m\u001b[0m\u001b[0;34m\u001b[0m\u001b[0m\n\u001b[1;32m    100\u001b[0m                 \u001b[0;31m# preexec_fn not supported on Windows\u001b[0m\u001b[0;34m\u001b[0m\u001b[0;34m\u001b[0m\u001b[0;34m\u001b[0m\u001b[0m\n",
      "\u001b[0;32m/usr/lib/python3.6/subprocess.py\u001b[0m in \u001b[0;36m__init__\u001b[0;34m(self, args, bufsize, executable, stdin, stdout, stderr, preexec_fn, close_fds, shell, cwd, env, universal_newlines, startupinfo, creationflags, restore_signals, start_new_session, pass_fds, encoding, errors)\u001b[0m\n\u001b[1;32m    727\u001b[0m                                 \u001b[0mc2pread\u001b[0m\u001b[0;34m,\u001b[0m \u001b[0mc2pwrite\u001b[0m\u001b[0;34m,\u001b[0m\u001b[0;34m\u001b[0m\u001b[0;34m\u001b[0m\u001b[0m\n\u001b[1;32m    728\u001b[0m                                 \u001b[0merrread\u001b[0m\u001b[0;34m,\u001b[0m \u001b[0merrwrite\u001b[0m\u001b[0;34m,\u001b[0m\u001b[0;34m\u001b[0m\u001b[0;34m\u001b[0m\u001b[0m\n\u001b[0;32m--> 729\u001b[0;31m                                 restore_signals, start_new_session)\n\u001b[0m\u001b[1;32m    730\u001b[0m         \u001b[0;32mexcept\u001b[0m\u001b[0;34m:\u001b[0m\u001b[0;34m\u001b[0m\u001b[0;34m\u001b[0m\u001b[0m\n\u001b[1;32m    731\u001b[0m             \u001b[0;31m# Cleanup if the child failed starting.\u001b[0m\u001b[0;34m\u001b[0m\u001b[0;34m\u001b[0m\u001b[0;34m\u001b[0m\u001b[0m\n",
      "\u001b[0;32m/usr/lib/python3.6/subprocess.py\u001b[0m in \u001b[0;36m_execute_child\u001b[0;34m(self, args, executable, preexec_fn, close_fds, pass_fds, cwd, env, startupinfo, creationflags, shell, p2cread, p2cwrite, c2pread, c2pwrite, errread, errwrite, restore_signals, start_new_session)\u001b[0m\n\u001b[1;32m   1362\u001b[0m                         \u001b[0;32mif\u001b[0m \u001b[0merrno_num\u001b[0m \u001b[0;34m==\u001b[0m \u001b[0merrno\u001b[0m\u001b[0;34m.\u001b[0m\u001b[0mENOENT\u001b[0m\u001b[0;34m:\u001b[0m\u001b[0;34m\u001b[0m\u001b[0;34m\u001b[0m\u001b[0m\n\u001b[1;32m   1363\u001b[0m                             \u001b[0merr_msg\u001b[0m \u001b[0;34m+=\u001b[0m \u001b[0;34m': '\u001b[0m \u001b[0;34m+\u001b[0m \u001b[0mrepr\u001b[0m\u001b[0;34m(\u001b[0m\u001b[0merr_filename\u001b[0m\u001b[0;34m)\u001b[0m\u001b[0;34m\u001b[0m\u001b[0;34m\u001b[0m\u001b[0m\n\u001b[0;32m-> 1364\u001b[0;31m                     \u001b[0;32mraise\u001b[0m \u001b[0mchild_exception_type\u001b[0m\u001b[0;34m(\u001b[0m\u001b[0merrno_num\u001b[0m\u001b[0;34m,\u001b[0m \u001b[0merr_msg\u001b[0m\u001b[0;34m,\u001b[0m \u001b[0merr_filename\u001b[0m\u001b[0;34m)\u001b[0m\u001b[0;34m\u001b[0m\u001b[0;34m\u001b[0m\u001b[0m\n\u001b[0m\u001b[1;32m   1365\u001b[0m                 \u001b[0;32mraise\u001b[0m \u001b[0mchild_exception_type\u001b[0m\u001b[0;34m(\u001b[0m\u001b[0merr_msg\u001b[0m\u001b[0;34m)\u001b[0m\u001b[0;34m\u001b[0m\u001b[0;34m\u001b[0m\u001b[0m\n\u001b[1;32m   1366\u001b[0m \u001b[0;34m\u001b[0m\u001b[0m\n",
      "\u001b[0;31mFileNotFoundError\u001b[0m: [Errno 2] No such file or directory: '/usr/lib/python3.8/site-packages/pyspark/./bin/spark-submit': '/usr/lib/python3.8/site-packages/pyspark/./bin/spark-submit'"
     ]
    }
   ],
   "source": [
    "# Cargar el conjunto de datos completo. Este paso no realiza ningún ajuste; simplemente lectura\n",
    "import findspark\n",
    "findspark.init('/usr/lib/python3.7/site-packages/pyspark')\n",
    "\n",
    "from pyspark.sql.types import (StringType, IntegerType, FloatType, \n",
    "                               DecimalType, StructField, StructType)\n",
    "\n",
    "from pyspark.sql import SparkSession\n",
    "\n",
    "spark = SparkSession \\\n",
    "    .builder \\\n",
    "    .appName(\"Bigdata: Tarea 3\") \\\n",
    "    .config(\"spark.driver.extraClassPath\", \"postgresql-42.2.14.jar\") \\\n",
    "    .config(\"spark.executor.extraClassPath\", \"postgresql-42.2.14.jar\") \\\n",
    "    .getOrCreate()\n",
    "\n",
    "houses_df = spark \\\n",
    "    .read \\\n",
    "    .format(\"csv\") \\\n",
    "    .option(\"path\", \"kc_house_data.csv\") \\\n",
    "    .option(\"header\", True) \\\n",
    "    .schema(StructType([\n",
    "                StructField(\"id\", StringType()),\n",
    "                StructField(\"date\", StringType()),\n",
    "                StructField(\"price\", StringType()),\n",
    "                StructField(\"bedrooms\", IntegerType()),\n",
    "                StructField(\"bathrooms\", FloatType()),\n",
    "                StructField(\"sqft_living\", IntegerType()),\n",
    "                StructField(\"sqft_lot\", IntegerType()),\n",
    "                StructField(\"floors\", StringType()),\n",
    "                StructField(\"waterfront\", IntegerType()),\n",
    "                StructField(\"view\", IntegerType()),\n",
    "                StructField(\"condition\", IntegerType()),\n",
    "                StructField(\"grade\", IntegerType()),\n",
    "                StructField(\"sqft_above\", IntegerType()),\n",
    "                StructField(\"sqft_basement\", IntegerType()),\n",
    "                StructField(\"yr_built\", IntegerType()),\n",
    "                StructField(\"yr_renovated\", IntegerType()),\n",
    "                StructField(\"zipcode\", StringType()),\n",
    "                StructField(\"lat\", FloatType()),\n",
    "                StructField(\"long\", FloatType()),\n",
    "                StructField(\"sqft_living15\", IntegerType()),\n",
    "                StructField(\"sqft_lot15\", IntegerType())])) \\\n",
    "    .load()\n",
    "\n",
    "houses_df.printSchema()\n",
    "houses_df.show()"
   ]
  },
  {
   "cell_type": "code",
   "execution_count": null,
   "metadata": {
    "colab": {},
    "colab_type": "code",
    "id": "TeCBV1AGTb3X",
    "outputId": "87a92ff5-f247-4a75-e470-8c6e7acf2ad1"
   },
   "outputs": [
    {
     "name": "stdout",
     "output_type": "stream",
     "text": [
      "+--------+---------+-----------+--------+------+---------+--------+----------+\n",
      "|bedrooms|bathrooms|sqft_living|sqft_lot|floors|condition|yr_built|     price|\n",
      "+--------+---------+-----------+--------+------+---------+--------+----------+\n",
      "|       3|      1.0|       1180|    5650|     1|        3|    1955|    221900|\n",
      "|       3|     2.25|       2570|    7242|     2|        3|    1951|    538000|\n",
      "|       2|      1.0|        770|   10000|     1|        3|    1933|    180000|\n",
      "|       4|      3.0|       1960|    5000|     1|        5|    1965|    604000|\n",
      "|       3|      2.0|       1680|    8080|     1|        3|    1987|    510000|\n",
      "|       4|      4.5|       5420|  101930|     1|        3|    2001|1.225e+006|\n",
      "|       3|     2.25|       1715|    6819|     2|        3|    1995|    257500|\n",
      "|       3|      1.5|       1060|    9711|     1|        3|    1963|    291850|\n",
      "|       3|      1.0|       1780|    7470|     1|        3|    1960|    229500|\n",
      "|       3|      2.5|       1890|    6560|     2|        3|    2003|    323000|\n",
      "|       3|      2.5|       3560|    9796|     1|        3|    1965|    662500|\n",
      "|       2|      1.0|       1160|    6000|     1|        4|    1942|    468000|\n",
      "|       3|      1.0|       1430|   19901|   1.5|        4|    1927|    310000|\n",
      "|       3|     1.75|       1370|    9680|     1|        4|    1977|    400000|\n",
      "|       5|      2.0|       1810|    4850|   1.5|        3|    1900|    530000|\n",
      "|       4|      3.0|       2950|    5000|     2|        3|    1979|    650000|\n",
      "|       3|      2.0|       1890|   14040|     2|        3|    1994|    395000|\n",
      "|       4|      1.0|       1600|    4300|   1.5|        4|    1916|    485000|\n",
      "|       2|      1.0|       1200|    9850|     1|        4|    1921|    189000|\n",
      "|       3|      1.0|       1250|    9774|     1|        4|    1969|    230000|\n",
      "+--------+---------+-----------+--------+------+---------+--------+----------+\n",
      "only showing top 20 rows\n",
      "\n"
     ]
    }
   ],
   "source": [
    "# Seleccionar un subconjunto de las columnas de interés y el objectivo que es el precio\n",
    "columns_kept = ['bedrooms', 'bathrooms', 'sqft_living', 'sqft_lot',\n",
    "                'floors', 'condition', 'yr_built', 'price']\n",
    "selected_columns_df = houses_df.select(columns_kept)\n",
    "\n",
    "selected_columns_df.show()"
   ]
  },
  {
   "cell_type": "code",
   "execution_count": null,
   "metadata": {
    "colab": {},
    "colab_type": "code",
    "id": "nrI9A9WcTb3a",
    "outputId": "16ccba9f-a52b-45da-908a-68aee8a0e5c5"
   },
   "outputs": [
    {
     "name": "stdout",
     "output_type": "stream",
     "text": [
      "+--------+---------+-----------+--------+------+---------+--------+-------+\n",
      "|bedrooms|bathrooms|sqft_living|sqft_lot|floors|condition|yr_built|  price|\n",
      "+--------+---------+-----------+--------+------+---------+--------+-------+\n",
      "|       3|      1.0|       1180|    5650|   1.0|        3|    1955| 221900|\n",
      "|       3|     2.25|       2570|    7242|   2.0|        3|    1951| 538000|\n",
      "|       2|      1.0|        770|   10000|   1.0|        3|    1933| 180000|\n",
      "|       4|      3.0|       1960|    5000|   1.0|        5|    1965| 604000|\n",
      "|       3|      2.0|       1680|    8080|   1.0|        3|    1987| 510000|\n",
      "|       4|      4.5|       5420|  101930|   1.0|        3|    2001|1225000|\n",
      "|       3|     2.25|       1715|    6819|   2.0|        3|    1995| 257500|\n",
      "|       3|      1.5|       1060|    9711|   1.0|        3|    1963| 291850|\n",
      "|       3|      1.0|       1780|    7470|   1.0|        3|    1960| 229500|\n",
      "|       3|      2.5|       1890|    6560|   2.0|        3|    2003| 323000|\n",
      "|       3|      2.5|       3560|    9796|   1.0|        3|    1965| 662500|\n",
      "|       2|      1.0|       1160|    6000|   1.0|        4|    1942| 468000|\n",
      "|       3|      1.0|       1430|   19901|   1.5|        4|    1927| 310000|\n",
      "|       3|     1.75|       1370|    9680|   1.0|        4|    1977| 400000|\n",
      "|       5|      2.0|       1810|    4850|   1.5|        3|    1900| 530000|\n",
      "|       4|      3.0|       2950|    5000|   2.0|        3|    1979| 650000|\n",
      "|       3|      2.0|       1890|   14040|   2.0|        3|    1994| 395000|\n",
      "|       4|      1.0|       1600|    4300|   1.5|        4|    1916| 485000|\n",
      "|       2|      1.0|       1200|    9850|   1.0|        4|    1921| 189000|\n",
      "|       3|      1.0|       1250|    9774|   1.0|        4|    1969| 230000|\n",
      "+--------+---------+-----------+--------+------+---------+--------+-------+\n",
      "only showing top 20 rows\n",
      "\n"
     ]
    }
   ],
   "source": [
    "# La cantidad de pisos y el precio fueron cargados como string. Deben ajustarse.\n",
    "correct_types_df = selected_columns_df \\\n",
    "    .withColumn('floors', selected_columns_df['floors'].cast(FloatType())) \\\n",
    "    .withColumn('price', selected_columns_df['price'].cast(DecimalType()))\n",
    "\n",
    "\n",
    "correct_types_df.show()\n"
   ]
  },
  {
   "cell_type": "code",
   "execution_count": null,
   "metadata": {
    "colab": {},
    "colab_type": "code",
    "id": "-LtTt2AyTb3d"
   },
   "outputs": [],
   "source": [
    "# Almacenar el conjunto de datos limpio en la base de datos\n",
    "correct_types_df \\\n",
    "    .write \\\n",
    "    .format(\"jdbc\") \\\n",
    "    .mode('overwrite') \\\n",
    "    .option(\"url\", \"jdbc:postgresql://172.17.0.1:5433/postgres\") \\\n",
    "    .option(\"user\", \"postgres\") \\\n",
    "    .option(\"password\", \"testPassword\") \\\n",
    "    .option(\"dbtable\", \"houses\") \\\n",
    "    .save()"
   ]
  },
  {
   "cell_type": "markdown",
   "metadata": {
    "colab_type": "text",
    "id": "93Fc2KNTTb3f"
   },
   "source": [
    "# Inspección de datos\n",
    "Previo a entrenar el modelo es común que se realice algún tipo de descripción de los datos, para tener una idea del tipo de problema con el que nos enfrentamos. A continuación, algunas operacions útiles que podemos usar.\n"
   ]
  },
  {
   "cell_type": "code",
   "execution_count": null,
   "metadata": {
    "colab": {},
    "colab_type": "code",
    "id": "5II3C8K8Tb3g",
    "outputId": "6b22d1ec-2fd8-45e3-b4fb-b590ddedbc39",
    "scrolled": false
   },
   "outputs": [
    {
     "name": "stdout",
     "output_type": "stream",
     "text": [
      "+--------+---------+-----------+--------+------+---------+--------+-------+\n",
      "|bedrooms|bathrooms|sqft_living|sqft_lot|floors|condition|yr_built|  price|\n",
      "+--------+---------+-----------+--------+------+---------+--------+-------+\n",
      "|       3|      1.0|       1180|    5650|   1.0|        3|    1955| 221900|\n",
      "|       3|     2.25|       2570|    7242|   2.0|        3|    1951| 538000|\n",
      "|       2|      1.0|        770|   10000|   1.0|        3|    1933| 180000|\n",
      "|       4|      3.0|       1960|    5000|   1.0|        5|    1965| 604000|\n",
      "|       3|      2.0|       1680|    8080|   1.0|        3|    1987| 510000|\n",
      "|       4|      4.5|       5420|  101930|   1.0|        3|    2001|1225000|\n",
      "|       3|     2.25|       1715|    6819|   2.0|        3|    1995| 257500|\n",
      "|       3|      1.5|       1060|    9711|   1.0|        3|    1963| 291850|\n",
      "|       3|      1.0|       1780|    7470|   1.0|        3|    1960| 229500|\n",
      "|       3|      2.5|       1890|    6560|   2.0|        3|    2003| 323000|\n",
      "|       3|      2.5|       3560|    9796|   1.0|        3|    1965| 662500|\n",
      "|       2|      1.0|       1160|    6000|   1.0|        4|    1942| 468000|\n",
      "|       3|      1.0|       1430|   19901|   1.5|        4|    1927| 310000|\n",
      "|       3|     1.75|       1370|    9680|   1.0|        4|    1977| 400000|\n",
      "|       5|      2.0|       1810|    4850|   1.5|        3|    1900| 530000|\n",
      "|       4|      3.0|       2950|    5000|   2.0|        3|    1979| 650000|\n",
      "|       3|      2.0|       1890|   14040|   2.0|        3|    1994| 395000|\n",
      "|       4|      1.0|       1600|    4300|   1.5|        4|    1916| 485000|\n",
      "|       2|      1.0|       1200|    9850|   1.0|        4|    1921| 189000|\n",
      "|       3|      1.0|       1250|    9774|   1.0|        4|    1969| 230000|\n",
      "+--------+---------+-----------+--------+------+---------+--------+-------+\n",
      "only showing top 20 rows\n",
      "\n"
     ]
    }
   ],
   "source": [
    "# Cargar el conjunto de datos. Esta vez desde la base de datos\n",
    "\n",
    "# Reading single DataFrame in Spark by retrieving all rows from a DB table.\n",
    "df = spark \\\n",
    "    .read \\\n",
    "    .format(\"jdbc\") \\\n",
    "    .option(\"url\", \"jdbc:postgresql://172.17.0.1:5433/postgres\") \\\n",
    "    .option(\"user\", \"postgres\") \\\n",
    "    .option(\"password\", \"testPassword\") \\\n",
    "    .option(\"dbtable\", \"houses\") \\\n",
    "    .load()\n",
    "\n",
    "df.show()"
   ]
  },
  {
   "cell_type": "code",
   "execution_count": null,
   "metadata": {
    "colab": {},
    "colab_type": "code",
    "id": "AE0l-XQrTb3i",
    "outputId": "0c6d6e23-0fcf-4f32-843a-c2bea0c43490"
   },
   "outputs": [
    {
     "name": "stdout",
     "output_type": "stream",
     "text": [
      "+-------+-----------------+------------------+------------------+\n",
      "|summary|         bedrooms|            floors|          yr_built|\n",
      "+-------+-----------------+------------------+------------------+\n",
      "|  count|            21613|             21613|             21613|\n",
      "|   mean| 3.37084162309721|1.4943089807060566|1971.0051357978994|\n",
      "| stddev|0.930061831147451|0.5399888951423489|29.373410802386243|\n",
      "|    min|                0|               1.0|              1900|\n",
      "|    max|               33|               3.5|              2015|\n",
      "+-------+-----------------+------------------+------------------+\n",
      "\n"
     ]
    }
   ],
   "source": [
    "# Información descriptiva del dataframe.\n",
    "df.describe(['bedrooms', 'floors', 'yr_built']).show()"
   ]
  },
  {
   "cell_type": "code",
   "execution_count": null,
   "metadata": {
    "colab": {},
    "colab_type": "code",
    "id": "mf87eHm0Tb3l",
    "outputId": "2f2f9241-8a13-4e29-dbda-2634ec36431b",
    "scrolled": true
   },
   "outputs": [
    {
     "name": "stdout",
     "output_type": "stream",
     "text": [
      "+--------------------+-------+\n",
      "|            features|  price|\n",
      "+--------------------+-------+\n",
      "|[3.0,1.0,1180.0,5...| 221900|\n",
      "|[3.0,2.25,2570.0,...| 538000|\n",
      "|[2.0,1.0,770.0,10...| 180000|\n",
      "|[4.0,3.0,1960.0,5...| 604000|\n",
      "|[3.0,2.0,1680.0,8...| 510000|\n",
      "|[4.0,4.5,5420.0,1...|1225000|\n",
      "|[3.0,2.25,1715.0,...| 257500|\n",
      "|[3.0,1.5,1060.0,9...| 291850|\n",
      "|[3.0,1.0,1780.0,7...| 229500|\n",
      "|[3.0,2.5,1890.0,6...| 323000|\n",
      "|[3.0,2.5,3560.0,9...| 662500|\n",
      "|[2.0,1.0,1160.0,6...| 468000|\n",
      "|[3.0,1.0,1430.0,1...| 310000|\n",
      "|[3.0,1.75,1370.0,...| 400000|\n",
      "|[5.0,2.0,1810.0,4...| 530000|\n",
      "|[4.0,3.0,2950.0,5...| 650000|\n",
      "|[3.0,2.0,1890.0,1...| 395000|\n",
      "|[4.0,1.0,1600.0,4...| 485000|\n",
      "|[2.0,1.0,1200.0,9...| 189000|\n",
      "|[3.0,1.0,1250.0,9...| 230000|\n",
      "+--------------------+-------+\n",
      "only showing top 20 rows\n",
      "\n"
     ]
    }
   ],
   "source": [
    "# Para realizar operaciones más detalladas es necesario expresar las filas originales en vectores\n",
    "from pyspark.ml.feature import VectorAssembler\n",
    "\n",
    "assembler = VectorAssembler(\n",
    "    inputCols=['bedrooms', 'bathrooms', 'sqft_living', 'sqft_lot',\n",
    "               'floors', 'condition', 'yr_built'],\n",
    "    outputCol='features')\n",
    "\n",
    "vector_df = assembler.transform(df)\n",
    "vector_df = vector_df.select(['features', 'price'])\n",
    "vector_df.show()\n"
   ]
  },
  {
   "cell_type": "code",
   "execution_count": null,
   "metadata": {
    "colab": {},
    "colab_type": "code",
    "id": "RbaZdhT3Tb3n",
    "outputId": "98906a43-fafb-4761-b434-9b99c186ee96"
   },
   "outputs": [
    {
     "data": {
      "text/plain": [
       "<matplotlib.axes._subplots.AxesSubplot at 0x11bececc0>"
      ]
     },
     "execution_count": 13,
     "metadata": {
      "tags": []
     },
     "output_type": "execute_result"
    },
    {
     "data": {
      "image/png": "[encoded data removed]",
      "text/plain": [
       "<Figure size 432x288 with 2 Axes>"
      ]
     },
     "metadata": {
      "needs_background": "light",
      "tags": []
     },
     "output_type": "display_data"
    }
   ],
   "source": [
    "# Con la representación de vectores podemos calcular correlaciones\n",
    "from pyspark.ml.stat import Correlation\n",
    "import seaborn as sns\n",
    "import matplotlib.pyplot as plt\n",
    "\n",
    "pearson_matrix = Correlation.corr(vector_df, 'features').collect()[0][0]\n",
    "\n",
    "sns.heatmap(pearson_matrix.toArray(), annot=True, fmt=\".2f\", cmap='viridis')"
   ]
  },
  {
   "cell_type": "markdown",
   "metadata": {
    "colab_type": "text",
    "id": "2yFnobBFTb3q"
   },
   "source": [
    "# Estandarización\n",
    "Como recordamos de los módulos anteriores es deseable que los datos se encuentren estandarizados o normalizados, para evitar que la magnitud de ciertos atributos dominen el proceso de entrenamiento. El módulo `pyspark.ml.feature` tiene varias alternativas. A continuación se presenta una."
   ]
  },
  {
   "cell_type": "code",
   "execution_count": null,
   "metadata": {
    "colab": {},
    "colab_type": "code",
    "id": "d-15zk2zTb3r",
    "outputId": "2691dd1d-b936-4e4e-c786-b858c0e087e2"
   },
   "outputs": [
    {
     "name": "stdout",
     "output_type": "stream",
     "text": [
      "+--------------------+-------+--------------------+\n",
      "|            features|  price|              scaled|\n",
      "+--------------------+-------+--------------------+\n",
      "|[3.0,1.0,1180.0,5...| 221900|[3.22559199779093...|\n",
      "|[3.0,2.25,2570.0,...| 538000|[3.22559199779093...|\n",
      "|[2.0,1.0,770.0,10...| 180000|[2.15039466519395...|\n",
      "|[4.0,3.0,1960.0,5...| 604000|[4.30078933038790...|\n",
      "|[3.0,2.0,1680.0,8...| 510000|[3.22559199779093...|\n",
      "|[4.0,4.5,5420.0,1...|1225000|[4.30078933038790...|\n",
      "|[3.0,2.25,1715.0,...| 257500|[3.22559199779093...|\n",
      "|[3.0,1.5,1060.0,9...| 291850|[3.22559199779093...|\n",
      "|[3.0,1.0,1780.0,7...| 229500|[3.22559199779093...|\n",
      "|[3.0,2.5,1890.0,6...| 323000|[3.22559199779093...|\n",
      "|[3.0,2.5,3560.0,9...| 662500|[3.22559199779093...|\n",
      "|[2.0,1.0,1160.0,6...| 468000|[2.15039466519395...|\n",
      "|[3.0,1.0,1430.0,1...| 310000|[3.22559199779093...|\n",
      "|[3.0,1.75,1370.0,...| 400000|[3.22559199779093...|\n",
      "|[5.0,2.0,1810.0,4...| 530000|[5.37598666298488...|\n",
      "|[4.0,3.0,2950.0,5...| 650000|[4.30078933038790...|\n",
      "|[3.0,2.0,1890.0,1...| 395000|[3.22559199779093...|\n",
      "|[4.0,1.0,1600.0,4...| 485000|[4.30078933038790...|\n",
      "|[2.0,1.0,1200.0,9...| 189000|[2.15039466519395...|\n",
      "|[3.0,1.0,1250.0,9...| 230000|[3.22559199779093...|\n",
      "+--------------------+-------+--------------------+\n",
      "only showing top 20 rows\n",
      "\n"
     ]
    }
   ],
   "source": [
    "from pyspark.ml.feature import StandardScaler\n",
    "\n",
    "standard_scaler = StandardScaler(inputCol='features', outputCol='scaled')\n",
    "scale_model = standard_scaler.fit(vector_df)\n",
    "\n",
    "scaled_df = scale_model.transform(vector_df)\n",
    "scaled_df.show()"
   ]
  },
  {
   "cell_type": "markdown",
   "metadata": {
    "colab_type": "text",
    "id": "bv62COlLTb3t"
   },
   "source": [
    "# Regresión lineal\n",
    "Como ejemplo de un tipo de modelo a entrenar usaremos una regresión lineal básica para tratar de predecir el precio. Para ellos utilizaremos los datos estandarizados."
   ]
  },
  {
   "cell_type": "code",
   "execution_count": null,
   "metadata": {
    "colab": {},
    "colab_type": "code",
    "id": "o1DW64l8Tb3u",
    "outputId": "3c5aa274-e910-43a5-9c65-fab83a0b7853"
   },
   "outputs": [
    {
     "name": "stdout",
     "output_type": "stream",
     "text": [
      "Pesos: [-64395.47318687582,50862.92091861797,278511.11197487527,-12339.081074522004,30946.977799688528,11683.836709724465,-94825.53343750679]\n",
      " b: 6223698.139208419\n",
      "RMSE: 244323.53190293963 r2: 0.5570878698871067\n",
      "+-------+------------------+\n",
      "|summary|             price|\n",
      "+-------+------------------+\n",
      "|  count|             21613|\n",
      "|   mean|       540088.1418|\n",
      "| stddev|367127.19648270035|\n",
      "|    min|             75000|\n",
      "|    max|           7700000|\n",
      "+-------+------------------+\n",
      "\n"
     ]
    }
   ],
   "source": [
    "# Nótese que no se hace partición de datos de entrenamiento (ejercicio posterior).\n",
    "from pyspark.ml.regression import LinearRegression\n",
    "\n",
    "regression = LinearRegression(featuresCol='scaled', labelCol='price')\n",
    "regression_model = regression.fit(scaled_df)\n",
    "\n",
    "print('Pesos: {}\\n b: {}'.format(regression_model.coefficients, regression_model.intercept))\n",
    "\n",
    "print('RMSE: {} r2: {}'.format(\n",
    "    regression_model.summary.rootMeanSquaredError,\n",
    "    regression_model.summary.r2))\n",
    "\n",
    "scaled_df.describe().show()\n",
    "\n",
    "# Si se quiere hacer predicciones nada más se requiere llamar a regression_model.transform(df)\n",
    "# Esto regresa el dataset con una columna nueva"
   ]
  },
  {
   "cell_type": "markdown",
   "metadata": {
    "colab_type": "text",
    "id": "c51g7LCKTb3x"
   },
   "source": [
    "# Ejercicio\n",
    "- Dividir los datos leídos desde la base de datos en dos conjuntos utilizando las funcionalidades de muestreo de Spark.\n",
    "- Entrene el modelo en uno y evalúe en otro. Escriba los resultados evaluados en una tabla en Postgresql.\n",
    "- Implementar un esquema de k-fold cross validation. Evalúe los resultados según RMSE y r2.\n",
    "- Pruebe diferentes parámetros a la regresión.\n",
    "- Pruebe diferentes tipos de regresión."
   ]
  }
 ],
 "metadata": {
  "celltoolbar": "Edit Metadata",
  "colab": {
   "name": "BigData-Leccion5.ipynb",
   "provenance": []
  },
  "interpreter": {
   "hash": "31f2aee4e71d21fbe5cf8b01ff0e069b9275f58929596ceb00d14d90e3e16cd6"
  },
  "kernelspec": {
   "display_name": "Python 3.6.9 64-bit",
   "name": "python3"
  },
  "language_info": {
   "codemirror_mode": {
    "name": "ipython",
    "version": 3
   },
   "file_extension": ".py",
   "mimetype": "text/x-python",
   "name": "python",
   "nbconvert_exporter": "python",
   "pygments_lexer": "ipython3",
   "version": "3.6.9"
  }
 },
 "nbformat": 4,
 "nbformat_minor": 1
}
