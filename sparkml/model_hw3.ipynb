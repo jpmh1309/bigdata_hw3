{
 "cells": [
  {
   "cell_type": "markdown",
   "metadata": {},
   "source": [
    "# Módulo # 4 - Big Data\n",
    "\n",
    "## Tarea # 3 \n",
    "## Autor: Jose Martinez"
   ]
  },
  {
   "cell_type": "markdown",
   "metadata": {},
   "source": [
    "# Datos de Entrada\n",
    "\n",
    "## Abandono de Banco\n",
    "\n",
    "Este conjunto de datos contiene detalles de los clientes de un banco y la variable objetivo es una variable binaria que refleja el hecho de si el cliente dejó el banco (cerró su cuenta) o si continúa siendo un cliente.\n",
    "\n",
    "### Features\n",
    "\n",
    "- `RowNumber`: Número de fila (Int)\n",
    "- `CustomerId`: Identificador del cliente (Int)\n",
    "- `Surname`: apellido del cliente (String)\n",
    "- `CreditScore`: puntaje de crédito del cliente (Number)\n",
    "- `Geography`: geografía del cliente (String)\n",
    "- `Gender`: Sexo del cliente (String)\n",
    "- `Age`: Edad del cliente (Int)\n",
    "- `Tenure`: Número de años que el cliente ha estado en el banco (Int)\n",
    "- `Balance`: estado de cuenta del cliente (Float)\n",
    "- `NumOfProducts`: numero de productos del cliente (Int)\n",
    "- `HasCrCard`: tiene tarjeta de crédito (Bool)\n",
    "- `IsActiveMember`: es un miembro activo (Bool)\n",
    "- `EstimatedSalary`: salario estimado del cliente (Float)\n",
    "\n",
    "### Objetivo Predictivo\n",
    "\n",
    "- `Exited`: si el cliente abandonó el banco (Bool)"
   ]
  },
  {
   "cell_type": "code",
   "execution_count": 1,
   "metadata": {},
   "outputs": [
    {
     "name": "stderr",
     "output_type": "stream",
     "text": [
      "WARNING: An illegal reflective access operation has occurred\n",
      "WARNING: Illegal reflective access by org.apache.spark.unsafe.Platform (file:/usr/lib/python3.7/site-packages/pyspark/jars/spark-unsafe_2.12-3.2.0.jar) to constructor java.nio.DirectByteBuffer(long,int)\n",
      "WARNING: Please consider reporting this to the maintainers of org.apache.spark.unsafe.Platform\n",
      "WARNING: Use --illegal-access=warn to enable warnings of further illegal reflective access operations\n",
      "WARNING: All illegal access operations will be denied in a future release\n",
      "Using Spark's default log4j profile: org/apache/spark/log4j-defaults.properties\n",
      "Setting default log level to \"WARN\".\n",
      "To adjust logging level use sc.setLogLevel(newLevel). For SparkR, use setLogLevel(newLevel).\n",
      "21/11/03 21:22:56 WARN NativeCodeLoader: Unable to load native-hadoop library for your platform... using builtin-java classes where applicable\n"
     ]
    },
    {
     "name": "stdout",
     "output_type": "stream",
     "text": [
      "root\n",
      " |-- RowNumber: integer (nullable = true)\n",
      " |-- CustomerId: integer (nullable = true)\n",
      " |-- Surname: string (nullable = true)\n",
      " |-- CreditScore: integer (nullable = true)\n",
      " |-- Geography: string (nullable = true)\n",
      " |-- Gender: string (nullable = true)\n",
      " |-- Age: integer (nullable = true)\n",
      " |-- Tenure: integer (nullable = true)\n",
      " |-- Balance: float (nullable = true)\n",
      " |-- NumOfProducts: integer (nullable = true)\n",
      " |-- HasCrCard: integer (nullable = true)\n",
      " |-- IsActiveMember: integer (nullable = true)\n",
      " |-- EstimatedSalary: float (nullable = true)\n",
      " |-- Exited: integer (nullable = true)\n",
      "\n",
      "+---------+----------+---------+-----------+---------+------+---+------+---------+-------------+---------+--------------+---------------+------+\n",
      "|RowNumber|CustomerId|  Surname|CreditScore|Geography|Gender|Age|Tenure|  Balance|NumOfProducts|HasCrCard|IsActiveMember|EstimatedSalary|Exited|\n",
      "+---------+----------+---------+-----------+---------+------+---+------+---------+-------------+---------+--------------+---------------+------+\n",
      "|        1|  15634602| Hargrave|        619|   France|Female| 42|     2|      0.0|            1|        1|             1|      101348.88|     1|\n",
      "|        2|  15647311|     Hill|        608|    Spain|Female| 41|     1| 83807.86|            1|        0|             1|      112542.58|     0|\n",
      "|        3|  15619304|     Onio|        502|   France|Female| 42|     8| 159660.8|            3|        1|             0|      113931.57|     1|\n",
      "|        4|  15701354|     Boni|        699|   France|Female| 39|     1|      0.0|            2|        0|             0|       93826.63|     0|\n",
      "|        5|  15737888| Mitchell|        850|    Spain|Female| 43|     2|125510.82|            1|        1|             1|        79084.1|     0|\n",
      "|        6|  15574012|      Chu|        645|    Spain|  Male| 44|     8|113755.78|            2|        1|             0|       149756.7|     1|\n",
      "|        7|  15592531| Bartlett|        822|   France|  Male| 50|     7|      0.0|            2|        1|             1|        10062.8|     0|\n",
      "|        8|  15656148|   Obinna|        376|  Germany|Female| 29|     4|115046.74|            4|        1|             0|      119346.88|     1|\n",
      "|        9|  15792365|       He|        501|   France|  Male| 44|     4|142051.06|            2|        0|             1|        74940.5|     0|\n",
      "|       10|  15592389|       H?|        684|   France|  Male| 27|     2|134603.88|            1|        1|             1|       71725.73|     0|\n",
      "|       11|  15767821|   Bearce|        528|   France|  Male| 31|     6|102016.72|            2|        0|             0|       80181.12|     0|\n",
      "|       12|  15737173|  Andrews|        497|    Spain|  Male| 24|     3|      0.0|            2|        1|             0|       76390.01|     0|\n",
      "|       13|  15632264|      Kay|        476|   France|Female| 34|    10|      0.0|            2|        1|             0|       26260.98|     0|\n",
      "|       14|  15691483|     Chin|        549|   France|Female| 25|     5|      0.0|            2|        0|             0|       190857.8|     0|\n",
      "|       15|  15600882|    Scott|        635|    Spain|Female| 35|     7|      0.0|            2|        1|             1|       65951.65|     0|\n",
      "|       16|  15643966|  Goforth|        616|  Germany|  Male| 45|     3| 143129.4|            2|        0|             1|       64327.26|     0|\n",
      "|       17|  15737452|    Romeo|        653|  Germany|  Male| 58|     1|132602.88|            1|        1|             0|        5097.67|     1|\n",
      "|       18|  15788218|Henderson|        549|    Spain|Female| 24|     9|      0.0|            2|        1|             1|       14406.41|     0|\n",
      "|       19|  15661507|  Muldrow|        587|    Spain|  Male| 45|     6|      0.0|            1|        0|             0|      158684.81|     0|\n",
      "|       20|  15568982|      Hao|        726|   France|Female| 24|     6|      0.0|            2|        1|             1|       54724.03|     0|\n",
      "+---------+----------+---------+-----------+---------+------+---+------+---------+-------------+---------+--------------+---------------+------+\n",
      "only showing top 20 rows\n",
      "\n"
     ]
    },
    {
     "name": "stderr",
     "output_type": "stream",
     "text": [
      "                                                                                \r"
     ]
    }
   ],
   "source": [
    "import findspark\n",
    "findspark.init('/usr/lib/python3.7/site-packages/pyspark')\n",
    "\n",
    "from pyspark.sql.types import (StringType, IntegerType, FloatType, \n",
    "                                StructField, StructType)\n",
    "\n",
    "from pyspark.sql import SparkSession\n",
    "\n",
    "spark = SparkSession \\\n",
    "    .builder \\\n",
    "    .appName(\"Bigdata: Tarea 3\") \\\n",
    "    .config(\"spark.driver.extraClassPath\", \"postgresql-42.2.14.jar\") \\\n",
    "    .config(\"spark.executor.extraClassPath\", \"postgresql-42.2.14.jar\") \\\n",
    "    .getOrCreate()\n",
    "\n",
    "# Define the schema of the dataframe\n",
    "churn_df = spark \\\n",
    "    .read \\\n",
    "    .format(\"csv\") \\\n",
    "    .option(\"path\", \"churn_modelling.csv\") \\\n",
    "    .option(\"header\", True) \\\n",
    "    .schema(StructType([\n",
    "                StructField(\"RowNumber\", IntegerType()),\n",
    "                StructField(\"CustomerId\", IntegerType()),\n",
    "                StructField(\"Surname\", StringType()),\n",
    "                StructField(\"CreditScore\", IntegerType()),\n",
    "                StructField(\"Geography\", StringType()),\n",
    "                StructField(\"Gender\", StringType()),\n",
    "                StructField(\"Age\", IntegerType()),\n",
    "                StructField(\"Tenure\", IntegerType()),\n",
    "                StructField(\"Balance\", FloatType()),\n",
    "                StructField(\"NumOfProducts\", IntegerType()),\n",
    "                StructField(\"HasCrCard\", IntegerType()),\n",
    "                StructField(\"IsActiveMember\", IntegerType()),\n",
    "                StructField(\"EstimatedSalary\", FloatType()),\n",
    "                StructField(\"Exited\", IntegerType())])) \\\n",
    "    .load()\n",
    "\n",
    "# Print the schema of the dataframe\n",
    "churn_df.printSchema()\n",
    "churn_df.show()"
   ]
  },
  {
   "cell_type": "markdown",
   "metadata": {},
   "source": [
    "# Preprocesamiento de datos"
   ]
  },
  {
   "cell_type": "code",
   "execution_count": 2,
   "metadata": {},
   "outputs": [
    {
     "name": "stdout",
     "output_type": "stream",
     "text": [
      "+-----------+------+---+------+---------+---------+-------------+---------+--------------+---------------+------+\n",
      "|CreditScore|Gender|Age|Tenure|Geography|  Balance|NumOfProducts|HasCrCard|IsActiveMember|EstimatedSalary|Exited|\n",
      "+-----------+------+---+------+---------+---------+-------------+---------+--------------+---------------+------+\n",
      "|        619|     0| 42|     2|        1|      0.0|            1|        1|             1|      101348.88|     1|\n",
      "|        608|     0| 41|     1|        0| 83807.86|            1|        0|             1|      112542.58|     0|\n",
      "|        502|     0| 42|     8|        1| 159660.8|            3|        1|             0|      113931.57|     1|\n",
      "|        699|     0| 39|     1|        1|      0.0|            2|        0|             0|       93826.63|     0|\n",
      "|        850|     0| 43|     2|        0|125510.82|            1|        1|             1|        79084.1|     0|\n",
      "|        645|     1| 44|     8|        0|113755.78|            2|        1|             0|       149756.7|     1|\n",
      "|        822|     1| 50|     7|        1|      0.0|            2|        1|             1|        10062.8|     0|\n",
      "|        376|     0| 29|     4|        2|115046.74|            4|        1|             0|      119346.88|     1|\n",
      "|        501|     1| 44|     4|        1|142051.06|            2|        0|             1|        74940.5|     0|\n",
      "|        684|     1| 27|     2|        1|134603.88|            1|        1|             1|       71725.73|     0|\n",
      "|        528|     1| 31|     6|        1|102016.72|            2|        0|             0|       80181.12|     0|\n",
      "|        497|     1| 24|     3|        0|      0.0|            2|        1|             0|       76390.01|     0|\n",
      "|        476|     0| 34|    10|        1|      0.0|            2|        1|             0|       26260.98|     0|\n",
      "|        549|     0| 25|     5|        1|      0.0|            2|        0|             0|       190857.8|     0|\n",
      "|        635|     0| 35|     7|        0|      0.0|            2|        1|             1|       65951.65|     0|\n",
      "|        616|     1| 45|     3|        2| 143129.4|            2|        0|             1|       64327.26|     0|\n",
      "|        653|     1| 58|     1|        2|132602.88|            1|        1|             0|        5097.67|     1|\n",
      "|        549|     0| 24|     9|        0|      0.0|            2|        1|             1|       14406.41|     0|\n",
      "|        587|     1| 45|     6|        0|      0.0|            1|        0|             0|      158684.81|     0|\n",
      "|        726|     0| 24|     6|        1|      0.0|            2|        1|             1|       54724.03|     0|\n",
      "+-----------+------+---+------+---------+---------+-------------+---------+--------------+---------------+------+\n",
      "only showing top 20 rows\n",
      "\n"
     ]
    }
   ],
   "source": [
    "from pyspark.sql.functions import when\n",
    "\n",
    "# Se hace un primer filtrado para eliminar los registros que no tienen\n",
    "# información valiosa para calcular el modelo. Como lo son los registros\n",
    "# RowNumber, CustomerId, Surname. \n",
    "\n",
    "columns_kept = ['CreditScore', 'Gender', 'Age', 'Tenure', 'Geography',\n",
    "                'Balance', 'NumOfProducts', 'HasCrCard',\n",
    "                'IsActiveMember', 'EstimatedSalary', 'Exited']\n",
    "\n",
    "columns_features = ['CreditScore', 'Gender', 'Age', 'Tenure', 'Geography',\n",
    "                    'Balance', 'NumOfProducts', 'HasCrCard',\n",
    "                    'IsActiveMember', 'EstimatedSalary']\n",
    "\n",
    "selected_columns_df = churn_df.select(columns_kept)\n",
    "\n",
    "# Change Gender to int\n",
    "selected_columns_df = selected_columns_df.withColumn('Gender',\n",
    "                                                     when(selected_columns_df.Gender == 'Male', 1)\n",
    "                                                     .when(selected_columns_df.Gender == 'Female', 0)\n",
    "                                                     .otherwise(selected_columns_df.Gender))\n",
    "selected_columns_df = selected_columns_df .withColumn('Gender', selected_columns_df['Gender'].cast(IntegerType()))\n",
    "\n",
    "# Change Geography to int\n",
    "selected_columns_df = selected_columns_df.withColumn('Geography',\n",
    "                                                     when(selected_columns_df.Geography == 'Spain', 0)\n",
    "                                                     .when(selected_columns_df.Geography == 'France', 1)\n",
    "                                                     .when(selected_columns_df.Geography == 'Germany', 2)\n",
    "                                                     .otherwise(selected_columns_df.Geography))\n",
    "selected_columns_df = selected_columns_df .withColumn('Geography', selected_columns_df['Geography'].cast(IntegerType()))\n",
    "\n",
    "selected_columns_df.show()"
   ]
  },
  {
   "cell_type": "markdown",
   "metadata": {},
   "source": [
    "## Gráficos y Estadísticas Descriptivas"
   ]
  },
  {
   "cell_type": "code",
   "execution_count": 3,
   "metadata": {},
   "outputs": [
    {
     "name": "stdout",
     "output_type": "stream",
     "text": [
      "+-------+-----------------+------------------+------------------+------------------+\n",
      "|summary|      CreditScore|            Gender|               Age|            Tenure|\n",
      "+-------+-----------------+------------------+------------------+------------------+\n",
      "|  count|            10000|             10000|             10000|             10000|\n",
      "|   mean|         650.5288|            0.5457|           38.9218|            5.0128|\n",
      "| stddev|96.65329873613035|0.4979320271185253|10.487806451704587|2.8921743770496837|\n",
      "|    min|              350|                 0|                18|                 0|\n",
      "|    max|              850|                 1|                92|                10|\n",
      "+-------+-----------------+------------------+------------------+------------------+\n",
      "\n",
      "+-------+------------------+------------------+-------------------+------------------+\n",
      "|summary|           Balance|     NumOfProducts|          HasCrCard|         Geography|\n",
      "+-------+------------------+------------------+-------------------+------------------+\n",
      "|  count|             10000|             10000|              10000|             10000|\n",
      "|   mean| 76485.88928129883|            1.5302|             0.7055|            1.0032|\n",
      "| stddev|62397.405179244066|0.5816543579989917|0.45584046447513327|0.7061441948797692|\n",
      "|    min|               0.0|                 1|                  0|                 0|\n",
      "|    max|          250898.1|                 4|                  1|                 2|\n",
      "+-------+------------------+------------------+-------------------+------------------+\n",
      "\n",
      "+-------+-------------------+------------------+-------------------+\n",
      "|summary|     IsActiveMember|   EstimatedSalary|             Exited|\n",
      "+-------+-------------------+------------------+-------------------+\n",
      "|  count|              10000|             10000|              10000|\n",
      "|   mean|             0.5151|100090.23985771237|             0.2037|\n",
      "| stddev|0.49979692845891815| 57510.49281035653|0.40276858399486065|\n",
      "|    min|                  0|             11.58|                  0|\n",
      "|    max|                  1|         199992.48|                  1|\n",
      "+-------+-------------------+------------------+-------------------+\n",
      "\n"
     ]
    }
   ],
   "source": [
    "# Imprimimos información de los datos para verificar que no hay ningún\n",
    "# problema con los datos.\n",
    "selected_columns_df.describe(['CreditScore', 'Gender', 'Age', 'Tenure']).show()\n",
    "selected_columns_df.describe(['Balance', 'NumOfProducts', 'HasCrCard', 'Geography']).show()\n",
    "selected_columns_df.describe(['IsActiveMember', 'EstimatedSalary', 'Exited']).show()"
   ]
  },
  {
   "cell_type": "markdown",
   "metadata": {},
   "source": [
    "## Histogramas"
   ]
  },
  {
   "cell_type": "code",
   "execution_count": 4,
   "metadata": {},
   "outputs": [
    {
     "name": "stderr",
     "output_type": "stream",
     "text": [
      "                                                                                \r"
     ]
    },
    {
     "data": {
      "text/plain": [
       "Text(0.5, 1.0, 'Exited')"
      ]
     },
     "execution_count": 4,
     "metadata": {},
     "output_type": "execute_result"
    },
    {
     "data": {
      "image/png": "[encoded data removed]",
      "text/plain": [
       "<Figure size 1440x1440 with 12 Axes>"
      ]
     },
     "metadata": {
      "needs_background": "light"
     },
     "output_type": "display_data"
    }
   ],
   "source": [
    "from pyspark_dist_explore import hist\n",
    "import matplotlib.pyplot as plt\n",
    "\n",
    "fig, ax = plt.subplots(nrows=6, ncols=2)\n",
    "fig.set_size_inches(20, 20)\n",
    "\n",
    "hist(ax[0, 0], selected_columns_df.select('CreditScore'))\n",
    "ax[0, 0].set_title('CreditScore')\n",
    "\n",
    "hist(ax[0, 1], selected_columns_df.select('Gender'))\n",
    "ax[0, 1].set_title('Gender')\n",
    "\n",
    "hist(ax[1, 0], selected_columns_df.select('Age'))\n",
    "ax[1, 0].set_title('Age')\n",
    "\n",
    "hist(ax[1, 1], selected_columns_df.select('Tenure'))\n",
    "ax[1, 1].set_title('Tenure')\n",
    "\n",
    "hist(ax[2, 0], selected_columns_df.select('Balance'))\n",
    "ax[2, 0].set_title('Balance')\n",
    "\n",
    "hist(ax[2, 1], selected_columns_df.select('NumOfProducts'))\n",
    "ax[2, 1].set_title('NumOfProducts')\n",
    "\n",
    "hist(ax[3, 0], selected_columns_df.select('HasCrCard'))\n",
    "ax[3, 0].set_title('HasCrCard')\n",
    "\n",
    "hist(ax[3, 1], selected_columns_df.select('IsActiveMember'))\n",
    "ax[3, 1].set_title('IsActiveMember')\n",
    "\n",
    "hist(ax[4, 0], selected_columns_df.select('EstimatedSalary'))\n",
    "ax[4, 0].set_title('EstimatedSalary')\n",
    "\n",
    "hist(ax[4, 1], selected_columns_df.select('Geography'))\n",
    "ax[4, 1].set_title('Geography')\n",
    "\n",
    "hist(ax[5, 0], selected_columns_df.select('Exited'))\n",
    "ax[5, 0].set_title('Exited')"
   ]
  },
  {
   "cell_type": "markdown",
   "metadata": {},
   "source": [
    "## Oversampling\n",
    "\n",
    "Como se observa en el histograma de la variable objetivo, la cantidad de datos no es balanceada y hay muchos mas casos de abandono de cuenta que de no abandono. Por lo que se va a aplicar oversampling para mejorar la balanceación de los datos."
   ]
  },
  {
   "cell_type": "code",
   "execution_count": 5,
   "metadata": {},
   "outputs": [
    {
     "name": "stdout",
     "output_type": "stream",
     "text": [
      "+------+-----+\n",
      "|Exited|count|\n",
      "+------+-----+\n",
      "|     1| 2037|\n",
      "|     0| 7963|\n",
      "+------+-----+\n",
      "\n",
      "ratio: 3\n",
      "+------+-----+\n",
      "|Exited|count|\n",
      "+------+-----+\n",
      "|     0| 7963|\n",
      "|     1| 6111|\n",
      "+------+-----+\n",
      "\n"
     ]
    }
   ],
   "source": [
    "from pyspark.sql.functions import explode, array, lit\n",
    "from pyspark_dist_explore import hist\n",
    "import matplotlib.pyplot as plt\n",
    "\n",
    "selected_columns_df.groupby(\"Exited\").count().show()\n",
    "\n",
    "major_df = selected_columns_df.filter(selected_columns_df.Exited == 0)\n",
    "minor_df = selected_columns_df.filter(selected_columns_df.Exited == 1)\n",
    "ratio = int(major_df.count()/minor_df.count())\n",
    "print(\"ratio: {}\".format(ratio))\n",
    "\n",
    "a = range(ratio)\n",
    "\n",
    "# Duplicate the minority rows\n",
    "oversampled_df = minor_df.withColumn(\"dummy\", explode(array([lit(x) for x in a]))).drop('dummy')\n",
    "\n",
    "# Combine both oversampled minority rows and previous majority rows \n",
    "combined_df = major_df.unionAll(oversampled_df)\n",
    "\n",
    "combined_df.groupby(\"Exited\").count().show()"
   ]
  },
  {
   "cell_type": "markdown",
   "metadata": {},
   "source": [
    "## Matriz de Correlaciones"
   ]
  },
  {
   "cell_type": "code",
   "execution_count": 6,
   "metadata": {},
   "outputs": [
    {
     "name": "stdout",
     "output_type": "stream",
     "text": [
      "+--------------------+------+\n",
      "|            Features|Exited|\n",
      "+--------------------+------+\n",
      "|[608.0,0.0,41.0,1...|     0|\n",
      "|[699.0,0.0,39.0,1...|     0|\n",
      "|[850.0,0.0,43.0,2...|     0|\n",
      "|[822.0,1.0,50.0,7...|     0|\n",
      "|[501.0,1.0,44.0,4...|     0|\n",
      "|[684.0,1.0,27.0,2...|     0|\n",
      "|[528.0,1.0,31.0,6...|     0|\n",
      "|[497.0,1.0,24.0,3...|     0|\n",
      "|[476.0,0.0,34.0,1...|     0|\n",
      "|[549.0,0.0,25.0,5...|     0|\n",
      "|[635.0,0.0,35.0,7...|     0|\n",
      "|[616.0,1.0,45.0,3...|     0|\n",
      "|[549.0,0.0,24.0,9...|     0|\n",
      "|[587.0,1.0,45.0,6...|     0|\n",
      "|[726.0,0.0,24.0,6...|     0|\n",
      "|[732.0,1.0,41.0,8...|     0|\n",
      "|[636.0,0.0,32.0,8...|     0|\n",
      "|[669.0,1.0,46.0,3...|     0|\n",
      "|[846.0,0.0,38.0,5...|     0|\n",
      "|[577.0,1.0,25.0,3...|     0|\n",
      "+--------------------+------+\n",
      "only showing top 20 rows\n",
      "\n"
     ]
    },
    {
     "name": "stderr",
     "output_type": "stream",
     "text": [
      "21/11/03 21:23:23 WARN InstanceBuilder$NativeBLAS: Failed to load implementation from:dev.ludovic.netlib.blas.JNIBLAS\n",
      "21/11/03 21:23:23 WARN InstanceBuilder$NativeBLAS: Failed to load implementation from:dev.ludovic.netlib.blas.ForeignLinkerBLAS\n",
      "/usr/lib/python3.7/site-packages/pyspark/sql/context.py:127: FutureWarning: Deprecated in 3.0.0. Use SparkSession.builder.getOrCreate() instead.\n",
      "  FutureWarning\n"
     ]
    },
    {
     "data": {
      "text/plain": [
       "<AxesSubplot:>"
      ]
     },
     "execution_count": 6,
     "metadata": {},
     "output_type": "execute_result"
    },
    {
     "data": {
      "image/png": "[encoded data removed]",
      "text/plain": [
       "<Figure size 432x288 with 2 Axes>"
      ]
     },
     "metadata": {
      "needs_background": "light"
     },
     "output_type": "display_data"
    }
   ],
   "source": [
    "from pyspark.ml.feature import VectorAssembler\n",
    "from pyspark.ml.stat import Correlation\n",
    "import matplotlib.pyplot as plt\n",
    "import seaborn as sns\n",
    "\n",
    "# Para realizar operaciones más detalladas es necesario expresar las filas originales en vectores\n",
    "assembler = VectorAssembler(\n",
    "    inputCols=columns_features,\n",
    "    outputCol='Features')\n",
    "\n",
    "vector_df = assembler.transform(combined_df)\n",
    "vector_df = vector_df.select(['Features', 'Exited'])\n",
    "vector_df.show()\n",
    "\n",
    "# Con la representación de vectores podemos calcular correlaciones\n",
    "pearson_matrix = Correlation.corr(vector_df, 'Features').collect()[0][0]\n",
    "sns.heatmap(pearson_matrix.toArray(), annot=True, fmt=\".2f\", cmap='RdYlGn')"
   ]
  },
  {
   "cell_type": "markdown",
   "metadata": {},
   "source": [
    "## Imputacion de valores faltantes\n",
    "\n",
    "El dataset fue revisando previamente para ver si existen valores faltantes. En este se cuanta con la fortuna de que no existen valores faltantes, por lo que no es necesario realizar ninguna acción. "
   ]
  },
  {
   "cell_type": "markdown",
   "metadata": {},
   "source": [
    "## Normalización / Estandarización de Datos"
   ]
  },
  {
   "cell_type": "code",
   "execution_count": 7,
   "metadata": {},
   "outputs": [
    {
     "name": "stdout",
     "output_type": "stream",
     "text": [
      "root\n",
      " |-- scaledFeatures: vector (nullable = true)\n",
      " |-- Exited: integer (nullable = true)\n",
      "\n",
      "+--------------------+------+\n",
      "|      scaledFeatures|Exited|\n",
      "+--------------------+------+\n",
      "|[6.21993245924743...|     0|\n",
      "|[7.15087629772032...|     0|\n",
      "|[8.69562926046105...|     0|\n",
      "|[8.40918500246939...|     0|\n",
      "|[5.12530618763645...|     0|\n",
      "|[6.99742401665336...|     0|\n",
      "|[5.40152029355698...|     0|\n",
      "|[5.08438557935193...|     0|\n",
      "|[4.86955238585819...|     0|\n",
      "|[5.61635348705073...|     0|\n",
      "|[6.49614656516796...|     0|\n",
      "|[6.30177367581648...|     0|\n",
      "|[5.61635348705073...|     0|\n",
      "|[6.00509926575369...|     0|\n",
      "|[7.42709040364085...|     0|\n",
      "|[7.48847131606763...|     0|\n",
      "|[6.50637671723909...|     0|\n",
      "|[6.84397173558640...|     0|\n",
      "|[8.65470865217653...|     0|\n",
      "|[5.90279774504238...|     0|\n",
      "+--------------------+------+\n",
      "only showing top 20 rows\n",
      "\n"
     ]
    }
   ],
   "source": [
    "from pyspark.ml.feature import StandardScaler, Normalizer\n",
    "\n",
    "# standard_normalizer = Normalizer(inputCol='features', outputCol='normFeatures')\n",
    "# normalize_df = standard_normalizer.transform(vector_df)\n",
    "# normalize_df.show()\n",
    "\n",
    "standard_scaler = StandardScaler(inputCol='Features', outputCol='scaledFeatures')\n",
    "scale_model = standard_scaler.fit(vector_df)\n",
    "\n",
    "scaled_df = scale_model.transform(vector_df)\n",
    "scaled_df = scaled_df.select(['scaledFeatures', 'Exited'])\n",
    "scaled_df.printSchema()\n",
    "scaled_df.show()"
   ]
  },
  {
   "cell_type": "markdown",
   "metadata": {},
   "source": [
    "## Escritura a base de datos."
   ]
  },
  {
   "cell_type": "code",
   "execution_count": 8,
   "metadata": {},
   "outputs": [
    {
     "name": "stdout",
     "output_type": "stream",
     "text": [
      "root\n",
      " |-- Exited: integer (nullable = true)\n",
      " |-- CreditScore: double (nullable = true)\n",
      " |-- Gender: double (nullable = true)\n",
      " |-- Age: double (nullable = true)\n",
      " |-- Tenure: double (nullable = true)\n",
      " |-- Geography: double (nullable = true)\n",
      " |-- Balance: double (nullable = true)\n",
      " |-- NumOfProducts: double (nullable = true)\n",
      " |-- HasCrCard: double (nullable = true)\n",
      " |-- IsActiveMember: double (nullable = true)\n",
      " |-- EstimatedSalary: double (nullable = true)\n",
      "\n",
      "+------+------------------+------------------+------------------+------------------+------------------+------------------+------------------+-----------------+-----------------+-------------------+\n",
      "|Exited|       CreditScore|            Gender|               Age|            Tenure|         Geography|           Balance|     NumOfProducts|        HasCrCard|   IsActiveMember|    EstimatedSalary|\n",
      "+------+------------------+------------------+------------------+------------------+------------------+------------------+------------------+-----------------+-----------------+-------------------+\n",
      "|     0| 6.219932459247438|               0.0|3.8582739163107713|0.3442368521992586|               0.0|1.3602913232507696|1.5305297556168111|              0.0|2.003432721123733| 1.9529699251788801|\n",
      "|     0| 7.150876297720328|               0.0|3.6700654325882947|0.3442368521992586|1.3799206766052852|               0.0|3.0610595112336223|              0.0|              0.0|  1.628189038464098|\n",
      "|     0| 8.695629260461056|               0.0|4.0464824000332476|0.6884737043985172|               0.0| 2.037175046808433|1.5305297556168111|2.189770661136184|2.003432721123733| 1.3723594614991816|\n",
      "|     0| 8.409185002469398|2.0008717553191837| 4.705212093061916|  2.40965796539481|1.3799206766052852|               0.0|3.0610595112336223|2.189770661136184|2.003432721123733|0.17462142514473872|\n",
      "|     0| 5.125306187636458|2.0008717553191837| 4.140586641894486|1.3769474087970344|1.3799206766052852|2.3056408935668844|3.0610595112336223|              0.0|2.003432721123733|  1.300454859984734|\n",
      "|     0| 6.997424016653368|2.0008717553191837|2.5408145302534346|0.6884737043985172|1.3799206766052852| 2.184765063848538|1.5305297556168111|2.189770661136184|2.003432721123733| 1.2446683661590097|\n",
      "|     0|5.4015202935569855|2.0008717553191837| 2.917231497698388|2.0654211131955513|1.3799206766052852|1.6558406141982325|3.0610595112336223|              0.0|              0.0|  1.391396154622532|\n",
      "|     0|5.0843855793519355|2.0008717553191837|2.2585018046697196|1.0327105565977757|               0.0|               0.0|3.0610595112336223|2.189770661136184|              0.0| 1.3256084081909971|\n",
      "|     0| 4.869552385858191|               0.0| 3.199544223282103| 3.442368521992586|1.3799206766052852|               0.0|3.0610595112336223|2.189770661136184|              0.0|0.45571112654105744|\n",
      "|     0|  5.61635348705073|               0.0| 2.352606046530958| 1.721184260996293|1.3799206766052852|               0.0|3.0610595112336223|              0.0|              0.0|  3.311986836384504|\n",
      "|     0| 6.496146565167965|               0.0|3.2936484651433413|  2.40965796539481|               0.0|               0.0|3.0610595112336223|2.189770661136184|2.003432721123733| 1.1444698358638048|\n",
      "|     0|6.3017736758164835|2.0008717553191837| 4.234690883755724|1.0327105565977757|2.7598413532105703| 2.323143567630461|3.0610595112336223|              0.0|2.003432721123733| 1.1162815851463277|\n",
      "|     0|  5.61635348705073|               0.0|2.2585018046697196|3.0981316697933274|               0.0|               0.0|3.0610595112336223|2.189770661136184|2.003432721123733|0.24999681217270694|\n",
      "|     0| 6.005099265753694|2.0008717553191837| 4.234690883755724|2.0654211131955513|               0.0|               0.0|1.5305297556168111|              0.0|              0.0| 2.7536837307115816|\n",
      "|     0| 7.427090403640856|               0.0|2.2585018046697196|2.0654211131955513|1.3799206766052852|               0.0|3.0610595112336223|2.189770661136184|2.003432721123733| 0.9496351425066414|\n",
      "|     0| 7.488471316067639|2.0008717553191837|3.8582739163107713|2.7538948175940687|1.3799206766052852|               0.0|3.0610595112336223|2.189770661136184|2.003432721123733| 2.9654159328938334|\n",
      "|     0| 6.506376717239096|               0.0|3.0113357395596263|2.7538948175940687|               0.0|               0.0|3.0610595112336223|2.189770661136184|              0.0| 2.4043756365889375|\n",
      "|     0| 6.843971735586408|2.0008717553191837| 4.328795125616963|1.0327105565977757|1.3799206766052852|               0.0|3.0610595112336223|              0.0|2.003432721123733|0.14728932603646128|\n",
      "|     0| 8.654708652176534|               0.0|3.5759611907270563| 1.721184260996293|1.3799206766052852|               0.0|1.5305297556168111|2.189770661136184|2.003432721123733|  3.255734111821615|\n",
      "|     0| 5.902797745042387|2.0008717553191837| 2.352606046530958|1.0327105565977757|1.3799206766052852|               0.0|3.0610595112336223|              0.0|2.003432721123733| 2.1606128811485408|\n",
      "+------+------------------+------------------+------------------+------------------+------------------+------------------+------------------+-----------------+-----------------+-------------------+\n",
      "only showing top 20 rows\n",
      "\n"
     ]
    },
    {
     "name": "stderr",
     "output_type": "stream",
     "text": [
      "                                                                                \r"
     ]
    }
   ],
   "source": [
    "from pyspark.ml.functions import vector_to_array\n",
    "from pyspark.sql.functions import col\n",
    "\n",
    "\n",
    "# Covertir vector a columnas\n",
    "pre_df = (scaled_df.withColumn(\"scaledFeatures\", vector_to_array(\"scaledFeatures\"))).select([\"Exited\"] + [col(\"scaledFeatures\")[i].alias(columns_features[i]) for i in range(len(columns_features))])\n",
    "pre_df.printSchema()\n",
    "pre_df.show()\n",
    "\n",
    "# Almacenar el conjunto de datos limpio en la base de datos\n",
    "pre_df \\\n",
    "    .write \\\n",
    "    .format(\"jdbc\") \\\n",
    "    .mode('overwrite') \\\n",
    "    .option(\"url\", \"jdbc:postgresql://172.17.0.1:5433/postgres\") \\\n",
    "    .option(\"user\", \"postgres\") \\\n",
    "    .option(\"password\", \"testPassword\") \\\n",
    "    .option(\"dbtable\", \"tarea3\") \\\n",
    "    .save()"
   ]
  },
  {
   "cell_type": "markdown",
   "metadata": {},
   "source": [
    "# Entrenamiento del modelo"
   ]
  },
  {
   "cell_type": "code",
   "execution_count": 9,
   "metadata": {},
   "outputs": [
    {
     "name": "stdout",
     "output_type": "stream",
     "text": [
      "+------+-----------------+------------------+------------------+------------------+------------------+------------------+------------------+-----------------+-----------------+-------------------+\n",
      "|Exited|      CreditScore|            Gender|               Age|            Tenure|         Geography|           Balance|     NumOfProducts|        HasCrCard|   IsActiveMember|    EstimatedSalary|\n",
      "+------+-----------------+------------------+------------------+------------------+------------------+------------------+------------------+-----------------+-----------------+-------------------+\n",
      "|     1|6.332464132029875|               0.0|3.9523781581720097|0.6884737043985172|1.3799206766052852|               0.0|1.5305297556168111|2.189770661136184|2.003432721123733| 1.7587238837149326|\n",
      "|     1|6.332464132029875|               0.0|3.9523781581720097|0.6884737043985172|1.3799206766052852|               0.0|1.5305297556168111|2.189770661136184|2.003432721123733| 1.7587238837149326|\n",
      "|     1|6.332464132029875|               0.0|3.9523781581720097|0.6884737043985172|1.3799206766052852|               0.0|1.5305297556168111|2.189770661136184|2.003432721123733| 1.7587238837149326|\n",
      "|     1|5.135536339707588|               0.0|3.9523781581720097|2.7538948175940687|1.3799206766052852|2.5914657440487345| 4.591589266850433|2.189770661136184|              0.0| 1.9770733357608112|\n",
      "|     1|5.135536339707588|               0.0|3.9523781581720097|2.7538948175940687|1.3799206766052852|2.5914657440487345| 4.591589266850433|2.189770661136184|              0.0| 1.9770733357608112|\n",
      "|     1|5.135536339707588|               0.0|3.9523781581720097|2.7538948175940687|1.3799206766052852|2.5914657440487345| 4.591589266850433|2.189770661136184|              0.0| 1.9770733357608112|\n",
      "|     1|6.598448085879272|2.0008717553191837| 4.140586641894486|2.7538948175940687|               0.0|1.8463781721424928|3.0610595112336223|2.189770661136184|              0.0| 2.5987527757914246|\n",
      "|     1|6.598448085879272|2.0008717553191837| 4.140586641894486|2.7538948175940687|               0.0|1.8463781721424928|3.0610595112336223|2.189770661136184|              0.0| 2.5987527757914246|\n",
      "|     1|6.598448085879272|2.0008717553191837| 4.140586641894486|2.7538948175940687|               0.0|1.8463781721424928|3.0610595112336223|2.189770661136184|              0.0| 2.5987527757914246|\n",
      "|     1|3.846537178745126|               0.0|2.7290230139759113|1.3769474087970344|2.7598413532105703|1.8673318508909178| 6.122119022467245|2.189770661136184|              0.0| 2.0710461469771904|\n",
      "|     1|3.846537178745126|               0.0|2.7290230139759113|1.3769474087970344|2.7598413532105703|1.8673318508909178| 6.122119022467245|2.189770661136184|              0.0| 2.0710461469771904|\n",
      "|     1|3.846537178745126|               0.0|2.7290230139759113|1.3769474087970344|2.7598413532105703|1.8673318508909178| 6.122119022467245|2.189770661136184|              0.0| 2.0710461469771904|\n",
      "|     1|6.680289302448317|2.0008717553191837| 5.458046027951823|0.3442368521992586|2.7598413532105703|2.1522866906014015|1.5305297556168111|2.189770661136184|              0.0|0.08846070715434702|\n",
      "|     1|6.680289302448317|2.0008717553191837| 5.458046027951823|0.3442368521992586|2.7598413532105703|2.1522866906014015|1.5305297556168111|2.189770661136184|              0.0|0.08846070715434702|\n",
      "|     1|6.680289302448317|2.0008717553191837| 5.458046027951823|0.3442368521992586|2.7598413532105703|2.1522866906014015|1.5305297556168111|2.189770661136184|              0.0|0.08846070715434702|\n",
      "|     1|5.217377556276634|               0.0|3.5759611907270563|1.3769474087970344|               0.0|               0.0|1.5305297556168111|2.189770661136184|              0.0| 2.0635261258199376|\n",
      "|     1|5.217377556276634|               0.0|3.5759611907270563|1.3769474087970344|               0.0|               0.0|1.5305297556168111|2.189770661136184|              0.0| 2.0635261258199376|\n",
      "|     1|5.217377556276634|               0.0|3.5759611907270563|1.3769474087970344|               0.0|               0.0|1.5305297556168111|2.189770661136184|              0.0| 2.0635261258199376|\n",
      "|     1|6.046019874038217|               0.0|3.6700654325882947|1.0327105565977757|               0.0|               0.0| 4.591589266850433|2.189770661136184|              0.0|  2.437588238639562|\n",
      "|     1|6.046019874038217|               0.0|3.6700654325882947|1.0327105565977757|               0.0|               0.0| 4.591589266850433|2.189770661136184|              0.0|  2.437588238639562|\n",
      "+------+-----------------+------------------+------------------+------------------+------------------+------------------+------------------+-----------------+-----------------+-------------------+\n",
      "only showing top 20 rows\n",
      "\n",
      "+--------------------+------+\n",
      "|            Features|Exited|\n",
      "+--------------------+------+\n",
      "|[619.0,0.0,42.0,2...|     1|\n",
      "|[608.0,0.0,41.0,1...|     0|\n",
      "|[502.0,0.0,42.0,8...|     1|\n",
      "|[699.0,0.0,39.0,1...|     0|\n",
      "|[850.0,0.0,43.0,2...|     0|\n",
      "|[645.0,1.0,44.0,8...|     1|\n",
      "|[822.0,1.0,50.0,7...|     0|\n",
      "|[376.0,0.0,29.0,4...|     1|\n",
      "|[501.0,1.0,44.0,4...|     0|\n",
      "|[684.0,1.0,27.0,2...|     0|\n",
      "|[528.0,1.0,31.0,6...|     0|\n",
      "|[497.0,1.0,24.0,3...|     0|\n",
      "|[476.0,0.0,34.0,1...|     0|\n",
      "|[549.0,0.0,25.0,5...|     0|\n",
      "|[635.0,0.0,35.0,7...|     0|\n",
      "|[616.0,1.0,45.0,3...|     0|\n",
      "|[653.0,1.0,58.0,1...|     1|\n",
      "|[549.0,0.0,24.0,9...|     0|\n",
      "|[587.0,1.0,45.0,6...|     0|\n",
      "|[726.0,0.0,24.0,6...|     0|\n",
      "+--------------------+------+\n",
      "only showing top 20 rows\n",
      "\n"
     ]
    }
   ],
   "source": [
    "# Reading single DataFrame in Spark by retrieving all rows from a DB table.\n",
    "df = spark \\\n",
    "    .read \\\n",
    "    .format(\"jdbc\") \\\n",
    "    .option(\"url\", \"jdbc:postgresql://172.17.0.1:5433/postgres\") \\\n",
    "    .option(\"user\", \"postgres\") \\\n",
    "    .option(\"password\", \"testPassword\") \\\n",
    "    .option(\"dbtable\", \"tarea3\") \\\n",
    "    .load()\n",
    "\n",
    "df.show()\n",
    "\n",
    "assembler = VectorAssembler(\n",
    "    inputCols=columns_features,\n",
    "    outputCol='Features')\n",
    "\n",
    "vector_df = assembler.transform(selected_columns_df)\n",
    "vector_df = vector_df.select(['Features', 'Exited'])\n",
    "vector_df.show()"
   ]
  },
  {
   "cell_type": "markdown",
   "metadata": {},
   "source": [
    "## Dividir dataset en conjunto de entrenamiento y prueba"
   ]
  },
  {
   "cell_type": "code",
   "execution_count": 10,
   "metadata": {},
   "outputs": [
    {
     "name": "stdout",
     "output_type": "stream",
     "text": [
      "14074\n",
      "9877\n",
      "4197\n"
     ]
    }
   ],
   "source": [
    "# Split the data into training and test sets (70 % training, 30 % test)\n",
    "training_df, test_df = scaled_df.randomSplit([0.7, 0.3])\n",
    "\n",
    "# Imprimir tamano de los conjuntos de datos\n",
    "print(scaled_df.count())\n",
    "print(training_df.count())\n",
    "print(test_df.count())"
   ]
  },
  {
   "cell_type": "markdown",
   "metadata": {},
   "source": [
    "## Uso de protocolo K-fold cross validation"
   ]
  },
  {
   "cell_type": "code",
   "execution_count": 11,
   "metadata": {},
   "outputs": [],
   "source": [
    "# Codigo tomado de https://stackoverflow.com/questions/53600615/cross-validation-metrics-with-pyspark\n",
    "from pyspark.ml.tuning import CrossValidator, CrossValidatorModel\n",
    "from pyspark.mllib.evaluation import BinaryClassificationMetrics\n",
    "from pyspark.sql.functions import rand\n",
    "import numpy as np\n",
    "import collections\n",
    "\n",
    "TestResult = collections.namedtuple(\"TestResult\", [\"params\", \"metrics\"])\n",
    "\n",
    "class CrossValidatorVerbose(CrossValidator):\n",
    "\n",
    "    def _fit(self, dataset):\n",
    "        folds = []\n",
    "        est = self.getOrDefault(self.estimator)\n",
    "        epm = self.getOrDefault(self.estimatorParamMaps)\n",
    "        numModels = len(epm)\n",
    "\n",
    "        eva = self.getOrDefault(self.evaluator)\n",
    "        metricName = eva.getMetricName()\n",
    "        nFolds = self.getOrDefault(self.numFolds)\n",
    "        seed = self.getOrDefault(self.seed)\n",
    "        h = 1.0 / nFolds\n",
    "\n",
    "        randCol = self.uid + \"_rand\"\n",
    "        df = dataset.select(\"*\", rand(seed).alias(randCol))\n",
    "        metrics = [0.0] * numModels\n",
    "\n",
    "        for i in range(nFolds):\n",
    "            folds.append([])\n",
    "            foldNum = i + 1\n",
    "            print(\"Comparing models on fold %d\" % foldNum)\n",
    "\n",
    "            validateLB = i * h\n",
    "            validateUB = (i + 1) * h\n",
    "            condition = (df[randCol] >= validateLB) & (df[randCol] < validateUB)\n",
    "            validation = df.filter(condition)\n",
    "            train = df.filter(~condition)\n",
    "\n",
    "            for j in range(numModels):\n",
    "                paramMap = epm[j]\n",
    "                model = est.fit(train, paramMap)\n",
    "                # TODO: duplicate evaluator to take extra params from input\n",
    "                prediction = model.transform(validation, paramMap)\n",
    "                metric = eva.evaluate(prediction)\n",
    "                metrics[j] += metric\n",
    "\n",
    "                avgSoFar = metrics[j] / foldNum\n",
    "                print(\"params: %s\\t%s: %f\\tavg: %f\" % (\n",
    "                    {param.name: val for (param, val) in paramMap.items()},\n",
    "                    metricName, metric, avgSoFar))\n",
    "                \n",
    "                predictionLabels = prediction.select(\"prediction\", \"Exited\")\n",
    "                allMetrics = BinaryClassificationMetrics(predictionLabels.rdd)\n",
    "                folds[i].append(TestResult(paramMap.items(), allMetrics))\n",
    "                \n",
    "\n",
    "        if eva.isLargerBetter():\n",
    "            bestIndex = np.argmax(metrics)\n",
    "        else:\n",
    "            bestIndex = np.argmin(metrics)\n",
    "\n",
    "        bestParams = epm[bestIndex]\n",
    "        bestModel = est.fit(dataset, bestParams)\n",
    "        avgMetrics = [m / nFolds for m in metrics]\n",
    "        bestAvg = avgMetrics[bestIndex]\n",
    "        print(\"Best model:\\nparams: %s\\t%s: %f\" % (\n",
    "            {param.name: val for (param, val) in bestParams.items()},\n",
    "            metricName, bestAvg))\n",
    "\n",
    "        return self._copyValues(CrossValidatorModel(bestModel, avgMetrics)), folds"
   ]
  },
  {
   "cell_type": "markdown",
   "metadata": {},
   "source": [
    "## Modelo 1: Regresión Logística "
   ]
  },
  {
   "cell_type": "code",
   "execution_count": 12,
   "metadata": {},
   "outputs": [
    {
     "name": "stdout",
     "output_type": "stream",
     "text": [
      "+--------------------+------+\n",
      "|      scaledFeatures|Exited|\n",
      "+--------------------+------+\n",
      "|(10,[0,1,2,6,9],[...|     0|\n",
      "|(10,[0,1,2,6,9],[...|     0|\n",
      "|(10,[0,2,3,6,9],[...|     0|\n",
      "|(10,[0,2,3,6,9],[...|     0|\n",
      "|(10,[0,2,3,6,9],[...|     0|\n",
      "|(10,[0,2,3,6,9],[...|     0|\n",
      "|(10,[0,2,3,6,9],[...|     0|\n",
      "|(10,[0,2,3,6,9],[...|     0|\n",
      "|(10,[0,2,3,6,9],[...|     0|\n",
      "|(10,[0,2,3,6,9],[...|     0|\n",
      "|(10,[0,2,3,6,9],[...|     0|\n",
      "|(10,[0,2,3,6,9],[...|     0|\n",
      "|(10,[0,2,3,6,9],[...|     0|\n",
      "|(10,[0,2,3,6,9],[...|     0|\n",
      "|(10,[0,2,3,6,9],[...|     0|\n",
      "|(10,[0,2,3,6,9],[...|     0|\n",
      "|(10,[0,2,3,6,9],[...|     0|\n",
      "|(10,[0,2,3,6,9],[...|     0|\n",
      "|(10,[0,2,3,6,9],[...|     0|\n",
      "|(10,[0,2,3,6,9],[...|     0|\n",
      "+--------------------+------+\n",
      "only showing top 20 rows\n",
      "\n",
      "Comparing models on fold 1\n"
     ]
    },
    {
     "name": "stderr",
     "output_type": "stream",
     "text": [
      "                                                                                \r"
     ]
    },
    {
     "name": "stdout",
     "output_type": "stream",
     "text": [
      "params: {'maxIter': 10}\tareaUnderROC: 0.752572\tavg: 0.752572\n",
      "Comparing models on fold 2\n"
     ]
    },
    {
     "name": "stderr",
     "output_type": "stream",
     "text": [
      "                                                                                \r"
     ]
    },
    {
     "name": "stdout",
     "output_type": "stream",
     "text": [
      "params: {'maxIter': 10}\tareaUnderROC: 0.772068\tavg: 0.762320\n",
      "Comparing models on fold 3\n"
     ]
    },
    {
     "name": "stderr",
     "output_type": "stream",
     "text": [
      "                                                                                \r"
     ]
    },
    {
     "name": "stdout",
     "output_type": "stream",
     "text": [
      "params: {'maxIter': 10}\tareaUnderROC: 0.778107\tavg: 0.767582\n",
      "Comparing models on fold 4\n"
     ]
    },
    {
     "name": "stderr",
     "output_type": "stream",
     "text": [
      "                                                                                \r"
     ]
    },
    {
     "name": "stdout",
     "output_type": "stream",
     "text": [
      "params: {'maxIter': 10}\tareaUnderROC: 0.780993\tavg: 0.770935\n",
      "Comparing models on fold 5\n"
     ]
    },
    {
     "name": "stderr",
     "output_type": "stream",
     "text": [
      "                                                                                \r"
     ]
    },
    {
     "name": "stdout",
     "output_type": "stream",
     "text": [
      "params: {'maxIter': 10}\tareaUnderROC: 0.759289\tavg: 0.768606\n"
     ]
    },
    {
     "name": "stderr",
     "output_type": "stream",
     "text": [
      "                                                                                \r"
     ]
    },
    {
     "name": "stdout",
     "output_type": "stream",
     "text": [
      "Best model:\n",
      "params: {'maxIter': 10}\tareaUnderROC: 0.768606\n"
     ]
    }
   ],
   "source": [
    "from pyspark.ml.evaluation import BinaryClassificationEvaluator\n",
    "from pyspark.ml.classification import LogisticRegression\n",
    "from pyspark.ml.tuning import ParamGridBuilder\n",
    "\n",
    "df = training_df.select('scaledFeatures', 'Exited')\n",
    "df.show()\n",
    "\n",
    "lr = LogisticRegression(featuresCol='scaledFeatures', labelCol='Exited', maxIter=10)\n",
    "grid = ParamGridBuilder().addGrid(param=lr.maxIter, values=[10]).build()\n",
    "\n",
    "# Implementa k-Folds e imprime informacion por cada iteracion\n",
    "cv = CrossValidatorVerbose(estimator=lr,\n",
    "                           estimatorParamMaps=grid,\n",
    "                           evaluator=BinaryClassificationEvaluator(labelCol='Exited'),\n",
    "                           numFolds=5)\n",
    "\n",
    "cvlr_model, lr_folds = cv.fit(df)"
   ]
  },
  {
   "cell_type": "markdown",
   "metadata": {},
   "source": [
    "## Modelo 2: Random Forest"
   ]
  },
  {
   "cell_type": "code",
   "execution_count": 13,
   "metadata": {},
   "outputs": [
    {
     "name": "stdout",
     "output_type": "stream",
     "text": [
      "+--------------------+------+\n",
      "|      scaledFeatures|Exited|\n",
      "+--------------------+------+\n",
      "|(10,[0,1,2,6,9],[...|     0|\n",
      "|(10,[0,1,2,6,9],[...|     0|\n",
      "|(10,[0,2,3,6,9],[...|     0|\n",
      "|(10,[0,2,3,6,9],[...|     0|\n",
      "|(10,[0,2,3,6,9],[...|     0|\n",
      "|(10,[0,2,3,6,9],[...|     0|\n",
      "|(10,[0,2,3,6,9],[...|     0|\n",
      "|(10,[0,2,3,6,9],[...|     0|\n",
      "|(10,[0,2,3,6,9],[...|     0|\n",
      "|(10,[0,2,3,6,9],[...|     0|\n",
      "|(10,[0,2,3,6,9],[...|     0|\n",
      "|(10,[0,2,3,6,9],[...|     0|\n",
      "|(10,[0,2,3,6,9],[...|     0|\n",
      "|(10,[0,2,3,6,9],[...|     0|\n",
      "|(10,[0,2,3,6,9],[...|     0|\n",
      "|(10,[0,2,3,6,9],[...|     0|\n",
      "|(10,[0,2,3,6,9],[...|     0|\n",
      "|(10,[0,2,3,6,9],[...|     0|\n",
      "|(10,[0,2,3,6,9],[...|     0|\n",
      "|(10,[0,2,3,6,9],[...|     0|\n",
      "+--------------------+------+\n",
      "only showing top 20 rows\n",
      "\n",
      "Comparing models on fold 1\n",
      "params: {'maxDepth': 4}\tareaUnderROC: 0.823172\tavg: 0.823172\n",
      "Comparing models on fold 2\n",
      "params: {'maxDepth': 4}\tareaUnderROC: 0.838866\tavg: 0.831019\n",
      "Comparing models on fold 3\n",
      "params: {'maxDepth': 4}\tareaUnderROC: 0.855573\tavg: 0.839204\n",
      "Comparing models on fold 4\n",
      "params: {'maxDepth': 4}\tareaUnderROC: 0.846506\tavg: 0.841029\n",
      "Comparing models on fold 5\n",
      "params: {'maxDepth': 4}\tareaUnderROC: 0.830883\tavg: 0.839000\n",
      "Best model:\n",
      "params: {'maxDepth': 4}\tareaUnderROC: 0.839000\n"
     ]
    }
   ],
   "source": [
    "from pyspark.ml.evaluation import BinaryClassificationEvaluator\n",
    "from pyspark.ml.classification import RandomForestClassifier\n",
    "from pyspark.ml.tuning import ParamGridBuilder\n",
    "\n",
    "df = training_df.select('scaledFeatures', 'Exited')\n",
    "df.show()\n",
    "\n",
    "rf = RandomForestClassifier(featuresCol='scaledFeatures', labelCol='Exited', maxDepth=4)\n",
    "grid = ParamGridBuilder().addGrid(rf.maxDepth, values=[4]).build()\n",
    "\n",
    "# Implementa k-Folds e imprime informacion por cada iteracion\n",
    "cv = CrossValidatorVerbose(estimator=rf,\n",
    "                           estimatorParamMaps=grid,\n",
    "                           evaluator=BinaryClassificationEvaluator(labelCol='Exited'),\n",
    "                           numFolds=5)\n",
    "\n",
    "cvrf_model, rf_folds = cv.fit(df)"
   ]
  },
  {
   "cell_type": "markdown",
   "metadata": {},
   "source": [
    "## Model 3: Decision Tree"
   ]
  },
  {
   "cell_type": "code",
   "execution_count": 14,
   "metadata": {},
   "outputs": [
    {
     "name": "stdout",
     "output_type": "stream",
     "text": [
      "+--------------------+------+\n",
      "|      scaledFeatures|Exited|\n",
      "+--------------------+------+\n",
      "|(10,[0,1,2,6,9],[...|     0|\n",
      "|(10,[0,1,2,6,9],[...|     0|\n",
      "|(10,[0,2,3,6,9],[...|     0|\n",
      "|(10,[0,2,3,6,9],[...|     0|\n",
      "|(10,[0,2,3,6,9],[...|     0|\n",
      "|(10,[0,2,3,6,9],[...|     0|\n",
      "|(10,[0,2,3,6,9],[...|     0|\n",
      "|(10,[0,2,3,6,9],[...|     0|\n",
      "|(10,[0,2,3,6,9],[...|     0|\n",
      "|(10,[0,2,3,6,9],[...|     0|\n",
      "|(10,[0,2,3,6,9],[...|     0|\n",
      "|(10,[0,2,3,6,9],[...|     0|\n",
      "|(10,[0,2,3,6,9],[...|     0|\n",
      "|(10,[0,2,3,6,9],[...|     0|\n",
      "|(10,[0,2,3,6,9],[...|     0|\n",
      "|(10,[0,2,3,6,9],[...|     0|\n",
      "|(10,[0,2,3,6,9],[...|     0|\n",
      "|(10,[0,2,3,6,9],[...|     0|\n",
      "|(10,[0,2,3,6,9],[...|     0|\n",
      "|(10,[0,2,3,6,9],[...|     0|\n",
      "+--------------------+------+\n",
      "only showing top 20 rows\n",
      "\n",
      "Comparing models on fold 1\n",
      "params: {'maxDepth': 4}\tareaUnderROC: 0.664980\tavg: 0.664980\n",
      "Comparing models on fold 2\n",
      "params: {'maxDepth': 4}\tareaUnderROC: 0.645564\tavg: 0.655272\n",
      "Comparing models on fold 3\n",
      "params: {'maxDepth': 4}\tareaUnderROC: 0.690391\tavg: 0.666978\n",
      "Comparing models on fold 4\n",
      "params: {'maxDepth': 4}\tareaUnderROC: 0.640014\tavg: 0.660237\n",
      "Comparing models on fold 5\n",
      "params: {'maxDepth': 4}\tareaUnderROC: 0.628016\tavg: 0.653793\n",
      "Best model:\n",
      "params: {'maxDepth': 4}\tareaUnderROC: 0.653793\n"
     ]
    }
   ],
   "source": [
    "from pyspark.ml.evaluation import BinaryClassificationEvaluator\n",
    "from pyspark.ml.classification import DecisionTreeClassifier\n",
    "from pyspark.ml.tuning import ParamGridBuilder\n",
    "\n",
    "df = training_df.select('scaledFeatures', 'Exited')\n",
    "df.show()\n",
    "\n",
    "dt = DecisionTreeClassifier(featuresCol='scaledFeatures', labelCol='Exited', maxDepth = 4)\n",
    "grid = ParamGridBuilder().addGrid(dt.maxDepth, values=[4]).build()\n",
    "\n",
    "# Implementa k-Folds e imprime informacion por cada iteracion\n",
    "cv = CrossValidatorVerbose(estimator=dt,\n",
    "                           estimatorParamMaps=grid,\n",
    "                           evaluator=BinaryClassificationEvaluator(labelCol='Exited'),\n",
    "                           numFolds=5)\n",
    "\n",
    "cvdt_model, dt_folds = cv.fit(df)"
   ]
  },
  {
   "cell_type": "markdown",
   "metadata": {},
   "source": [
    "# Evaluación del conjunto de validación"
   ]
  },
  {
   "cell_type": "code",
   "execution_count": 15,
   "metadata": {},
   "outputs": [],
   "source": [
    "from pyspark.ml.evaluation import BinaryClassificationEvaluator, MulticlassClassificationEvaluator\n",
    "from pyspark.mllib.evaluation import BinaryClassificationMetrics\n",
    "import matplotlib.pyplot as plt\n",
    "import numpy as np\n",
    "\n",
    "def display_metrics(model):\n",
    "    # Make predictions on the test set\n",
    "    predictions = model.transform(test_df.select('scaledFeatures', 'Exited'))\n",
    "\n",
    "    # Evaluate the model\n",
    "    evaluator = BinaryClassificationEvaluator(labelCol='Exited')\n",
    "    auroc = evaluator.evaluate(predictions, {evaluator.metricName: \"areaUnderROC\"})\n",
    "    auprc = evaluator.evaluate(predictions, {evaluator.metricName: \"areaUnderPR\"})\n",
    "    print(\"Area under ROC Curve: {:.5f}\".format(auroc))\n",
    "    print(\"Area under PR Curve: {:.5f}\".format(auprc))\n",
    "    \n",
    "    evaluator = MulticlassClassificationEvaluator(labelCol='Exited', metricName=\"accuracy\")\n",
    "    acc = evaluator.evaluate(predictions)\n",
    "    print(\"Accuracy: {:.5f}\".format(acc))\n",
    "\n",
    "    return auroc, auprc, acc\n",
    "    \n",
    "def save_model(model_name, model):\n",
    "    \n",
    "    predictions = model.transform(test_df.select('scaledFeatures', 'Exited'))\n",
    "    \n",
    "    pre_df = (predictions.withColumn(\"scaledFeatures\", vector_to_array(\"scaledFeatures\"))).select([\"prediction\"] + [\"Exited\"] + [col(\"scaledFeatures\")[i].alias(columns_features[i]) for i in range(len(columns_features))])    \n",
    "    pre_df.printSchema()\n",
    "    \n",
    "    pre_df \\\n",
    "        .write \\\n",
    "        .format(\"jdbc\") \\\n",
    "        .mode('overwrite') \\\n",
    "        .option(\"url\", \"jdbc:postgresql://172.17.0.1:5433/postgres\") \\\n",
    "        .option(\"user\", \"postgres\") \\\n",
    "        .option(\"password\", \"testPassword\") \\\n",
    "        .option(\"dbtable\", model_name) \\\n",
    "        .save()"
   ]
  },
  {
   "cell_type": "markdown",
   "metadata": {},
   "source": [
    "## Evaluación y almacenado de modelo 1"
   ]
  },
  {
   "cell_type": "code",
   "execution_count": 16,
   "metadata": {},
   "outputs": [
    {
     "name": "stdout",
     "output_type": "stream",
     "text": [
      "Pesos: [-0.053849625232375,-0.2676287377490143,0.8349209435548324,-0.04819933321148136,0.2841071618335499,0.22048830566993,-0.06007775363258871,-0.008039666790305731,-0.48869446283421447,0.012758411033233916]\n",
      " b: -2.893638247952581\n"
     ]
    },
    {
     "data": {
      "image/png": "[encoded data removed]",
      "text/plain": [
       "<Figure size 432x288 with 1 Axes>"
      ]
     },
     "metadata": {
      "needs_background": "light"
     },
     "output_type": "display_data"
    },
    {
     "name": "stderr",
     "output_type": "stream",
     "text": [
      "/usr/lib/python3.7/site-packages/pyspark/sql/context.py:127: FutureWarning: Deprecated in 3.0.0. Use SparkSession.builder.getOrCreate() instead.\n",
      "  FutureWarning\n"
     ]
    },
    {
     "data": {
      "image/png": "[encoded data removed]",
      "text/plain": [
       "<Figure size 432x288 with 1 Axes>"
      ]
     },
     "metadata": {
      "needs_background": "light"
     },
     "output_type": "display_data"
    },
    {
     "name": "stderr",
     "output_type": "stream",
     "text": [
      "/usr/lib/python3.7/site-packages/pyspark/sql/context.py:127: FutureWarning: Deprecated in 3.0.0. Use SparkSession.builder.getOrCreate() instead.\n",
      "  FutureWarning\n"
     ]
    },
    {
     "data": {
      "image/png": "[encoded data removed]",
      "text/plain": [
       "<Figure size 432x288 with 1 Axes>"
      ]
     },
     "metadata": {
      "needs_background": "light"
     },
     "output_type": "display_data"
    },
    {
     "name": "stdout",
     "output_type": "stream",
     "text": [
      "Area under ROC Curve: 0.75755\n",
      "Area under PR Curve: 0.67929\n",
      "Accuracy: 0.70241\n",
      "root\n",
      " |-- prediction: double (nullable = false)\n",
      " |-- Exited: integer (nullable = true)\n",
      " |-- CreditScore: double (nullable = true)\n",
      " |-- Gender: double (nullable = true)\n",
      " |-- Age: double (nullable = true)\n",
      " |-- Tenure: double (nullable = true)\n",
      " |-- Geography: double (nullable = true)\n",
      " |-- Balance: double (nullable = true)\n",
      " |-- NumOfProducts: double (nullable = true)\n",
      " |-- HasCrCard: double (nullable = true)\n",
      " |-- IsActiveMember: double (nullable = true)\n",
      " |-- EstimatedSalary: double (nullable = true)\n",
      "\n"
     ]
    }
   ],
   "source": [
    "# Crea graficas y analisis de los resultados\n",
    "\n",
    "# Weights\n",
    "print('Pesos: {}\\n b: {}'.format(cvlr_model.bestModel.coefficients, cvlr_model.bestModel.intercept))\n",
    "\n",
    "# Coefficients \n",
    "beta = np.sort(cvlr_model.bestModel.coefficients)\n",
    "plt.plot(beta)\n",
    "plt.ylabel('Beta Coefficients')\n",
    "plt.show()\n",
    "\n",
    "# Area under ROC\n",
    "trainingSummary = cvlr_model.bestModel.summary\n",
    "roc = trainingSummary.roc.toPandas()\n",
    "plt.plot(roc['FPR'],roc['TPR'])\n",
    "plt.ylabel('False Positive Rate')\n",
    "plt.xlabel('True Positive Rate')\n",
    "plt.title('ROC Curve')\n",
    "plt.show()\n",
    "\n",
    "# Precision and recall.\n",
    "pr = trainingSummary.pr.toPandas()\n",
    "plt.plot(pr['recall'],pr['precision'])\n",
    "plt.ylabel('Precision')\n",
    "plt.xlabel('Recall')\n",
    "plt.show()\n",
    "    \n",
    "cvlr_auroc, cvlr_auprc, cvlr_acc = display_metrics(cvlr_model)\n",
    "\n",
    "# Guardar modelo en base de datos\n",
    "save_model(\"modelo1\", cvlr_model)"
   ]
  },
  {
   "cell_type": "markdown",
   "metadata": {},
   "source": [
    "## Evaluación y almacenado de modelo 2"
   ]
  },
  {
   "cell_type": "code",
   "execution_count": 17,
   "metadata": {},
   "outputs": [
    {
     "name": "stderr",
     "output_type": "stream",
     "text": [
      "/usr/lib/python3.7/site-packages/pyspark/sql/context.py:127: FutureWarning: Deprecated in 3.0.0. Use SparkSession.builder.getOrCreate() instead.\n",
      "  FutureWarning\n"
     ]
    },
    {
     "data": {
      "image/png": "[encoded data removed]",
      "text/plain": [
       "<Figure size 432x288 with 1 Axes>"
      ]
     },
     "metadata": {
      "needs_background": "light"
     },
     "output_type": "display_data"
    },
    {
     "name": "stderr",
     "output_type": "stream",
     "text": [
      "/usr/lib/python3.7/site-packages/pyspark/sql/context.py:127: FutureWarning: Deprecated in 3.0.0. Use SparkSession.builder.getOrCreate() instead.\n",
      "  FutureWarning\n"
     ]
    },
    {
     "data": {
      "image/png": "[encoded data removed]",
      "text/plain": [
       "<Figure size 432x288 with 1 Axes>"
      ]
     },
     "metadata": {
      "needs_background": "light"
     },
     "output_type": "display_data"
    },
    {
     "name": "stdout",
     "output_type": "stream",
     "text": [
      "Area under ROC Curve: 0.83502\n",
      "Area under PR Curve: 0.81061\n",
      "Accuracy: 0.74744\n",
      "root\n",
      " |-- prediction: double (nullable = false)\n",
      " |-- Exited: integer (nullable = true)\n",
      " |-- CreditScore: double (nullable = true)\n",
      " |-- Gender: double (nullable = true)\n",
      " |-- Age: double (nullable = true)\n",
      " |-- Tenure: double (nullable = true)\n",
      " |-- Geography: double (nullable = true)\n",
      " |-- Balance: double (nullable = true)\n",
      " |-- NumOfProducts: double (nullable = true)\n",
      " |-- HasCrCard: double (nullable = true)\n",
      " |-- IsActiveMember: double (nullable = true)\n",
      " |-- EstimatedSalary: double (nullable = true)\n",
      "\n"
     ]
    }
   ],
   "source": [
    "# Area under ROC\n",
    "trainingSummary = cvrf_model.bestModel.summary\n",
    "roc = trainingSummary.roc.toPandas()\n",
    "plt.plot(roc['FPR'],roc['TPR'])\n",
    "plt.ylabel('False Positive Rate')\n",
    "plt.xlabel('True Positive Rate')\n",
    "plt.title('ROC Curve')\n",
    "plt.show()\n",
    "\n",
    "# Precision and recall.\n",
    "pr = trainingSummary.pr.toPandas()\n",
    "plt.plot(pr['recall'],pr['precision'])\n",
    "plt.ylabel('Precision')\n",
    "plt.xlabel('Recall')\n",
    "plt.show()\n",
    "\n",
    "# Crea graficas y analisis de los resultados\n",
    "cvrf_auroc, cvrf_auprc, cvrf_acc = display_metrics(cvrf_model)\n",
    "\n",
    "# Guardar modelo en base de datos\n",
    "save_model(\"modelo2\", cvrf_model)"
   ]
  },
  {
   "cell_type": "markdown",
   "metadata": {},
   "source": [
    "## Evaluación y almacenado de modelo 3"
   ]
  },
  {
   "cell_type": "code",
   "execution_count": 18,
   "metadata": {},
   "outputs": [
    {
     "name": "stdout",
     "output_type": "stream",
     "text": [
      "Area under ROC Curve: 0.61900\n",
      "Area under PR Curve: 0.62007\n",
      "Accuracy: 0.74458\n",
      "root\n",
      " |-- prediction: double (nullable = false)\n",
      " |-- Exited: integer (nullable = true)\n",
      " |-- CreditScore: double (nullable = true)\n",
      " |-- Gender: double (nullable = true)\n",
      " |-- Age: double (nullable = true)\n",
      " |-- Tenure: double (nullable = true)\n",
      " |-- Geography: double (nullable = true)\n",
      " |-- Balance: double (nullable = true)\n",
      " |-- NumOfProducts: double (nullable = true)\n",
      " |-- HasCrCard: double (nullable = true)\n",
      " |-- IsActiveMember: double (nullable = true)\n",
      " |-- EstimatedSalary: double (nullable = true)\n",
      "\n"
     ]
    }
   ],
   "source": [
    "# Crea graficas y analisis de los resultados\n",
    "cvdt_auroc, cvdt_auprc, cvdt_acc = display_metrics(cvdt_model)\n",
    "\n",
    "# Guardar modelo en base de datos\n",
    "save_model(\"modelo3\", cvdt_model)"
   ]
  },
  {
   "cell_type": "markdown",
   "metadata": {},
   "source": [
    "## Analisis de resultados"
   ]
  },
  {
   "cell_type": "code",
   "execution_count": 19,
   "metadata": {},
   "outputs": [
    {
     "data": {
      "text/plain": [
       "Text(0, 0.5, 'Area under ROC Curve')"
      ]
     },
     "execution_count": 19,
     "metadata": {},
     "output_type": "execute_result"
    },
    {
     "data": {
      "image/png": "[encoded data removed]",
      "text/plain": [
       "<Figure size 936x504 with 1 Axes>"
      ]
     },
     "metadata": {
      "needs_background": "light"
     },
     "output_type": "display_data"
    }
   ],
   "source": [
    "import pandas as pd \n",
    "\n",
    "names = ['Logistic Regression','Random Forest','Decision Tree']\n",
    "\n",
    "results = pd.Series([cvlr_auroc , cvrf_auroc, cvdt_auroc])\n",
    "ax = results.plot(kind = 'bar',figsize=(13,7),color=['black','gray','brown'])\n",
    "ax.set_title('Comparision of Models',fontsize=15)\n",
    "ax.set_yticks([0.0,0.1,0.2,0.3,0.4,0.5,0.6,0.7,0.8,0.9])\n",
    "ax.set_xticklabels(names ,fontsize=15,rotation = 45)\n",
    "ax.set_xlabel(\"Models\",fontsize=15)\n",
    "ax.set_ylabel(\"Area under ROC Curve\",fontsize=15)"
   ]
  },
  {
   "cell_type": "code",
   "execution_count": 20,
   "metadata": {},
   "outputs": [
    {
     "data": {
      "text/plain": [
       "Text(0, 0.5, 'Area under PR Curve')"
      ]
     },
     "execution_count": 20,
     "metadata": {},
     "output_type": "execute_result"
    },
    {
     "data": {
      "image/png": "[encoded data removed]",
      "text/plain": [
       "<Figure size 936x504 with 1 Axes>"
      ]
     },
     "metadata": {
      "needs_background": "light"
     },
     "output_type": "display_data"
    }
   ],
   "source": [
    "import pandas as pd \n",
    "\n",
    "names = ['Logistic Regression','Random Forest','Decision Tree']\n",
    "\n",
    "results = pd.Series([cvlr_auprc , cvrf_auprc, cvdt_auprc])\n",
    "ax = results.plot(kind = 'bar',figsize=(13,7),color=['black','gray','brown'])\n",
    "ax.set_title('Comparision of Models',fontsize=15)\n",
    "ax.set_yticks([0.0,0.1,0.2,0.3,0.4,0.5,0.6,0.7,0.8,0.9])\n",
    "ax.set_xticklabels(names ,fontsize=15,rotation = 45)\n",
    "ax.set_xlabel(\"Models\",fontsize=15)\n",
    "ax.set_ylabel(\"Area under PR Curve\",fontsize=15)"
   ]
  },
  {
   "cell_type": "code",
   "execution_count": 21,
   "metadata": {},
   "outputs": [
    {
     "data": {
      "text/plain": [
       "Text(0, 0.5, 'Accuracy')"
      ]
     },
     "execution_count": 21,
     "metadata": {},
     "output_type": "execute_result"
    },
    {
     "data": {
      "image/png": "[encoded data removed]",
      "text/plain": [
       "<Figure size 936x504 with 1 Axes>"
      ]
     },
     "metadata": {
      "needs_background": "light"
     },
     "output_type": "display_data"
    }
   ],
   "source": [
    "import pandas as pd \n",
    "\n",
    "names = ['Logistic Regression','Random Forest','Decision Tree']\n",
    "\n",
    "results = pd.Series([cvlr_acc , cvrf_acc, cvdt_acc])\n",
    "ax = results.plot(kind = 'bar',figsize=(13,7),color=['black','gray','brown'])\n",
    "ax.set_title('Comparision of Models',fontsize=15)\n",
    "ax.set_yticks([0.0,0.1,0.2,0.3,0.4,0.5,0.6,0.7,0.8,0.9])\n",
    "ax.set_xticklabels(names ,fontsize=15,rotation = 45)\n",
    "ax.set_xlabel(\"Models\",fontsize=15)\n",
    "ax.set_ylabel(\"Accuracy\",fontsize=15)"
   ]
  },
  {
   "cell_type": "markdown",
   "metadata": {},
   "source": [
    "# Modelo 1\n",
    "En el primer modelo se utilizó una regresión logística para predecir el valor de la variable objetivo. Si se analizan los pesos se puede el feature 'CreditScore' tiene un peso muy alto, por lo que se puede decir que es una variable importante para predecir el valor de la variable objetivo. La grafica de precision-recall tipica de un modelo de regresión logística. \n",
    "\n",
    "# Modelo 2\n",
    "En el segundo modelo se utilizó un Random Forest para predecir el valor de la variable objetivo. Con este modelo se obtuvieron los mejores resultados. En este casio la grafica de precision-recall del modelo 2 muestra que el modelo 2 tiene una precision de 0.9 y un recall de 0.9.\n",
    "\n",
    "# Modelo 3 \n",
    "Se creo un modelo adicional, just for fun :). En el tercer modelo se utilizó un Decision Tree para predecir el valor de la variable objetivo. Con este modelo se obtuvieron los peores resultados.\n",
    "\n",
    "# Conclusiones\n",
    "\n",
    "Al realizar la comparacion de los modelos, se puede observar que el modelo 3 es el mejor, el modelo 1 es el segundo mejor y el modelo 3 es el tercero mejor. Para este caso el modelo de Random Forest dio los mejores resultados. En todos los casos se realizo un modelo de k-fold cross validation, para obtener una mejor precisión. En la iteracion de los folds, se esta imprimiendo el AUROC y es interesante observar cambia el valor de AUROC en cada iteración. "
   ]
  }
 ],
 "metadata": {
  "kernelspec": {
   "display_name": "Python 3 (ipykernel)",
   "language": "python",
   "name": "python3"
  },
  "language_info": {
   "codemirror_mode": {
    "name": "ipython",
    "version": 3
   },
   "file_extension": ".py",
   "mimetype": "text/x-python",
   "name": "python",
   "nbconvert_exporter": "python",
   "pygments_lexer": "ipython3",
   "version": "3.7.10"
  }
 },
 "nbformat": 4,
 "nbformat_minor": 2
}
